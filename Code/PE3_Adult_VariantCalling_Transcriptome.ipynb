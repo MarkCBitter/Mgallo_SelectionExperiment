{
 "cells": [
  {
   "cell_type": "markdown",
   "metadata": {},
   "source": [
    "This script conducts raw read QC/trimming, alignment, and variant calling on the founding individuals (Adults) from PE_3 using only the original transcriptome used to create the exome capture array. I am just using the transcriptome to reduce computational time and develop a picture of genetic variation change throughout the experiment. This transcriptome was modified from Moreira et al. (2015), which only includes the longest isoform of each putative gene and is the same file I sent to arbor biosciences."
   ]
  },
  {
   "cell_type": "markdown",
   "metadata": {},
   "source": [
    "FastQC on RawReads"
   ]
  },
  {
   "cell_type": "code",
   "execution_count": null,
   "metadata": {},
   "outputs": [],
   "source": [
    "%%sh\n",
    "\n",
    "#load modules\n",
    "module load java-jdk/1.8.0_92\n",
    "module load fastqc/0.11.5\n",
    "\n",
    "\n",
    "fastqc -o /scratch/mbitter/ExomeCapture_Scratch/FastQC_Output --extract /group/pfister-lab/Bitter/ExomeCapture/RawSequences_201806/*.fastq.gz  -t 8\n",
    "\n",
    "\n",
    "\n"
   ]
  },
  {
   "cell_type": "markdown",
   "metadata": {},
   "source": [
    "View files using MultiQC (actually viewed by downloading html output to local drive and using browser)"
   ]
  },
  {
   "cell_type": "code",
   "execution_count": null,
   "metadata": {},
   "outputs": [],
   "source": [
    "%%sh\n",
    "#Load modules\n",
    "module load gcc/6.2.0\n",
    "module load python/2.7.13\n",
    "\n",
    "multiqc -n raw_Adult_PE3_multiqc /scratch/mbitter/ExomeCapture_Scratch/FastQC_Output/ -o /scratch/mbitter/ExomeCapture_Scratch/MultiQC_Output/\n"
   ]
  },
  {
   "cell_type": "markdown",
   "metadata": {},
   "source": [
    "This looks good, with no failed tests. "
   ]
  },
  {
   "cell_type": "markdown",
   "metadata": {},
   "source": [
    "Trimming reads using trimmomatic, whcih accomodates paired end reads."
   ]
  },
  {
   "cell_type": "code",
   "execution_count": null,
   "metadata": {},
   "outputs": [],
   "source": [
    "%%sh\n",
    "\n",
    "#load modules\n",
    "module load java-jdk/1.8.0_92\n",
    "module load trimmomatic/0.36\n",
    "\n",
    "#Practice on MB-01 R1 + R2\n",
    "                       \n",
    "java -jar $TRIMMOMATIC PE -threads 8 -phred33 /group/pfister-lab/Bitter/ExomeCapture/Adult_RawSeqeunces201806/CP-MB-pl1-MB-01_S1_L008_R1_001.fastq.gz /group/pfister-lab/Bitter/ExomeCapture/Adult_RawSeqeunces201806/CP-MB-pl1-MB-01_S1_L008_R2_001.fastq.gz /scratch/mbitter/ExomeCapture_Scratch/Adult_Trimmomatic_Reads/CP-MB-pl1-MB-01_S1_L008_R1_trimmomatic.fastq.gz /scratch/mbitter/ExomeCapture_Scratch/Adult_Trimmomatic_Reads/CP-MB-pl1-MB-01_S1_L008_R1_UP_trimmomatic.fastq.gz /scratch/mbitter/ExomeCapture_Scratch/Adult_Trimmomatic_Reads/CP-MB-pl1-MB-01_S1_L008_R2_trimmomatic.fastq.gz /scratch/mbitter/ExomeCapture_Scratch/Adult_Trimmomatic_Reads/CP-MB-pl1-MB-01_S1_L008_R2_UP_trimmomatic.fastq.gz ILLUMINACLIP:/scratch/mbitter/ExomeCapture_Scratch/TruSeqAdapters.fa:2:30:10 LEADING:3 TRAILING:3 SLIDINGWINDOW:4:15 MINLEN:36                       \n",
    "                "
   ]
  },
  {
   "cell_type": "code",
   "execution_count": null,
   "metadata": {},
   "outputs": [],
   "source": [
    "%%sh\n",
    "\n",
    "#load modules\n",
    "module load java-jdk/1.8.0_92\n",
    "module load trimmomatic/0.36\n",
    "\n",
    "#Run on all files\n",
    "java -jar $TRIMMOMATIC PE -threads 8 -phred33 /group/pfister-lab/Bitter/ExomeCapture/Adult_RawSeqeunces201806/CP-MB-pl1-MB-01_S1_L008_R1_001.fastq.gz /group/pfister-lab/Bitter/ExomeCapture/Adult_RawSeqeunces201806/CP-MB-pl1-MB-01_S1_L008_R2_001.fastq.gz /scratch/mbitter/ExomeCapture_Scratch/Adult_Trimmomatic_Reads/CP-MB-pl1-MB-01_S1_L008_R1_trimmomatic.fastq.gz /scratch/mbitter/ExomeCapture_Scratch/Adult_Trimmomatic_Reads/CP-MB-pl1-MB-01_S1_L008_R1_UP_trimmomatic.fastq.gz /scratch/mbitter/ExomeCapture_Scratch/Adult_Trimmomatic_Reads/CP-MB-pl1-MB-01_S1_L008_R2_trimmomatic.fastq.gz /scratch/mbitter/ExomeCapture_Scratch/Adult_Trimmomatic_Reads/CP-MB-pl1-MB-01_S1_L008_R2_UP_trimmomatic.fastq.gz ILLUMINACLIP:/scratch/mbitter/ExomeCapture_Scratch/TruSeqAdapters.fa:2:30:10 LEADING:3 TRAILING:3 SLIDINGWINDOW:4:15 MINLEN:36                       \n",
    "java -jar $TRIMMOMATIC PE -threads 8 -phred33 /group/pfister-lab/Bitter/ExomeCapture/Adult_RawSeqeunces201806/CP-MB-pl1-MB-02_S2_L008_R1_001.fastq.gz /group/pfister-lab/Bitter/ExomeCapture/Adult_RawSeqeunces201806/CP-MB-pl1-MB-02_S2_L008_R2_001.fastq.gz /scratch/mbitter/ExomeCapture_Scratch/Adult_Trimmomatic_Reads/CP-MB-pl1-MB-02_S2_L008_R1_trimmomatic.fastq.gz /scratch/mbitter/ExomeCapture_Scratch/Adult_Trimmomatic_Reads/CP-MB-pl1-MB-02_S2_L008_R1_UP_trimmomatic.fastq.gz /scratch/mbitter/ExomeCapture_Scratch/Adult_Trimmomatic_Reads/CP-MB-pl1-MB-02_S2_L008_R2_trimmomatic.fastq.gz /scratch/mbitter/ExomeCapture_Scratch/Adult_Trimmomatic_Reads/CP-MB-pl1-MB-02_S2_L008_R2_UP_trimmomatic.fastq.gz ILLUMINACLIP:/scratch/mbitter/ExomeCapture_Scratch/TruSeqAdapters.fa:2:30:10 LEADING:3 TRAILING:3 SLIDINGWINDOW:4:15 MINLEN:36\n",
    "java -jar $TRIMMOMATIC PE -threads 8 -phred33 /group/pfister-lab/Bitter/ExomeCapture/Adult_RawSeqeunces201806/CP-MB-pl1-MB-03_S3_L008_R1_001.fastq.gz /group/pfister-lab/Bitter/ExomeCapture/Adult_RawSeqeunces201806/CP-MB-pl1-MB-03_S3_L008_R2_001.fastq.gz /scratch/mbitter/ExomeCapture_Scratch/Adult_Trimmomatic_Reads/CP-MB-pl1-MB-03_S3_L008_R1_trimmomatic.fastq.gz /scratch/mbitter/ExomeCapture_Scratch/Adult_Trimmomatic_Reads/CP-MB-pl1-MB-03_S3_L008_R1_UP_trimmomatic.fastq.gz /scratch/mbitter/ExomeCapture_Scratch/Adult_Trimmomatic_Reads/CP-MB-pl1-MB-03_S3_L008_R2_trimmomatic.fastq.gz /scratch/mbitter/ExomeCapture_Scratch/Adult_Trimmomatic_Reads/CP-MB-pl1-MB-03_S3_L008_R2_UP_trimmomatic.fastq.gz ILLUMINACLIP:/scratch/mbitter/ExomeCapture_Scratch/TruSeqAdapters.fa:2:30:10 LEADING:3 TRAILING:3 SLIDINGWINDOW:4:15 MINLEN:36                       \n",
    "java -jar $TRIMMOMATIC PE -threads 8 -phred33 /group/pfister-lab/Bitter/ExomeCapture/Adult_RawSeqeunces201806/CP-MB-pl1-MB-04_S4_L008_R1_001.fastq.gz /group/pfister-lab/Bitter/ExomeCapture/Adult_RawSeqeunces201806/CP-MB-pl1-MB-04_S4_L008_R2_001.fastq.gz /scratch/mbitter/ExomeCapture_Scratch/Adult_Trimmomatic_Reads/CP-MB-pl1-MB-04_S4_L008_R1_trimmomatic.fastq.gz /scratch/mbitter/ExomeCapture_Scratch/Adult_Trimmomatic_Reads/CP-MB-pl1-MB-04_S4_L008_R1_UP_trimmomatic.fastq.gz /scratch/mbitter/ExomeCapture_Scratch/Adult_Trimmomatic_Reads/CP-MB-pl1-MB-04_S4_L008_R2_trimmomatic.fastq.gz /scratch/mbitter/ExomeCapture_Scratch/Adult_Trimmomatic_Reads/CP-MB-pl1-MB-04_S4_L008_R2_UP_trimmomatic.fastq.gz ILLUMINACLIP:/scratch/mbitter/ExomeCapture_Scratch/TruSeqAdapters.fa:2:30:10 LEADING:3 TRAILING:3 SLIDINGWINDOW:4:15 MINLEN:36                       \n",
    "java -jar $TRIMMOMATIC PE -threads 8 -phred33 /group/pfister-lab/Bitter/ExomeCapture/Adult_RawSeqeunces201806/CP-MB-pl1-MB-05_S5_L008_R1_001.fastq.gz /group/pfister-lab/Bitter/ExomeCapture/Adult_RawSeqeunces201806/CP-MB-pl1-MB-05_S5_L008_R2_001.fastq.gz /scratch/mbitter/ExomeCapture_Scratch/Adult_Trimmomatic_Reads/CP-MB-pl1-MB-05_S5_L008_R1_trimmomatic.fastq.gz /scratch/mbitter/ExomeCapture_Scratch/Adult_Trimmomatic_Reads/CP-MB-pl1-MB-05_S5_L008_R1_UP_trimmomatic.fastq.gz /scratch/mbitter/ExomeCapture_Scratch/Adult_Trimmomatic_Reads/CP-MB-pl1-MB-05_S5_L008_R2_trimmomatic.fastq.gz /scratch/mbitter/ExomeCapture_Scratch/Adult_Trimmomatic_Reads/CP-MB-pl1-MB-05_S5_L008_R2_UP_trimmomatic.fastq.gz ILLUMINACLIP:/scratch/mbitter/ExomeCapture_Scratch/TruSeqAdapters.fa:2:30:10 LEADING:3 TRAILING:3 SLIDINGWINDOW:4:15 MINLEN:36                       \n",
    "java -jar $TRIMMOMATIC PE -threads 8 -phred33 /group/pfister-lab/Bitter/ExomeCapture/Adult_RawSeqeunces201806/CP-MB-pl1-MB-06_S6_L008_R1_001.fastq.gz /group/pfister-lab/Bitter/ExomeCapture/Adult_RawSeqeunces201806/CP-MB-pl1-MB-06_S6_L008_R2_001.fastq.gz /scratch/mbitter/ExomeCapture_Scratch/Adult_Trimmomatic_Reads/CP-MB-pl1-MB-06_S6_L008_R1_trimmomatic.fastq.gz /scratch/mbitter/ExomeCapture_Scratch/Adult_Trimmomatic_Reads/CP-MB-pl1-MB-06_S6_L008_R1_UP_trimmomatic.fastq.gz /scratch/mbitter/ExomeCapture_Scratch/Adult_Trimmomatic_Reads/CP-MB-pl1-MB-06_S6_L008_R2_trimmomatic.fastq.gz /scratch/mbitter/ExomeCapture_Scratch/Adult_Trimmomatic_Reads/CP-MB-pl1-MB-06_S6_L008_R2_UP_trimmomatic.fastq.gz ILLUMINACLIP:/scratch/mbitter/ExomeCapture_Scratch/TruSeqAdapters.fa:2:30:10 LEADING:3 TRAILING:3 SLIDINGWINDOW:4:15 MINLEN:36                       \n",
    "java -jar $TRIMMOMATIC PE -threads 8 -phred33 /group/pfister-lab/Bitter/ExomeCapture/Adult_RawSeqeunces201806/CP-MB-pl1-MB-07_S7_L008_R1_001.fastq.gz /group/pfister-lab/Bitter/ExomeCapture/Adult_RawSeqeunces201806/CP-MB-pl1-MB-07_S7_L008_R2_001.fastq.gz /scratch/mbitter/ExomeCapture_Scratch/Adult_Trimmomatic_Reads/CP-MB-pl1-MB-07_S7_L008_R1_trimmomatic.fastq.gz /scratch/mbitter/ExomeCapture_Scratch/Adult_Trimmomatic_Reads/CP-MB-pl1-MB-07_S7_L008_R1_UP_trimmomatic.fastq.gz /scratch/mbitter/ExomeCapture_Scratch/Adult_Trimmomatic_Reads/CP-MB-pl1-MB-07_S7_L008_R2_trimmomatic.fastq.gz /scratch/mbitter/ExomeCapture_Scratch/Adult_Trimmomatic_Reads/CP-MB-pl1-MB-07_S7_L008_R2_UP_trimmomatic.fastq.gz ILLUMINACLIP:/scratch/mbitter/ExomeCapture_Scratch/TruSeqAdapters.fa:2:30:10 LEADING:3 TRAILING:3 SLIDINGWINDOW:4:15 MINLEN:36                       \n",
    "java -jar $TRIMMOMATIC PE -threads 8 -phred33 /group/pfister-lab/Bitter/ExomeCapture/Adult_RawSeqeunces201806/CP-MB-pl1-MB-08_S8_L008_R1_001.fastq.gz /group/pfister-lab/Bitter/ExomeCapture/Adult_RawSeqeunces201806/CP-MB-pl1-MB-08_S8_L008_R2_001.fastq.gz /scratch/mbitter/ExomeCapture_Scratch/Adult_Trimmomatic_Reads/CP-MB-pl1-MB-08_S8_L008_R1_trimmomatic.fastq.gz /scratch/mbitter/ExomeCapture_Scratch/Adult_Trimmomatic_Reads/CP-MB-pl1-MB-08_S8_L008_R1_UP_trimmomatic.fastq.gz /scratch/mbitter/ExomeCapture_Scratch/Adult_Trimmomatic_Reads/CP-MB-pl1-MB-08_S8_L008_R2_trimmomatic.fastq.gz /scratch/mbitter/ExomeCapture_Scratch/Adult_Trimmomatic_Reads/CP-MB-pl1-MB-08_S8_L008_R2_UP_trimmomatic.fastq.gz ILLUMINACLIP:/scratch/mbitter/ExomeCapture_Scratch/TruSeqAdapters.fa:2:30:10 LEADING:3 TRAILING:3 SLIDINGWINDOW:4:15 MINLEN:36                       \n",
    "java -jar $TRIMMOMATIC PE -threads 8 -phred33 /group/pfister-lab/Bitter/ExomeCapture/Adult_RawSeqeunces201806/CP-MB-pl1-MB-09_S9_L008_R1_001.fastq.gz /group/pfister-lab/Bitter/ExomeCapture/Adult_RawSeqeunces201806/CP-MB-pl1-MB-09_S9_L008_R2_001.fastq.gz /scratch/mbitter/ExomeCapture_Scratch/Adult_Trimmomatic_Reads/CP-MB-pl1-MB-09_S9_L008_R1_trimmomatic.fastq.gz /scratch/mbitter/ExomeCapture_Scratch/Adult_Trimmomatic_Reads/CP-MB-pl1-MB-09_S9_L008_R1_UP_trimmomatic.fastq.gz /scratch/mbitter/ExomeCapture_Scratch/Adult_Trimmomatic_Reads/CP-MB-pl1-MB-09_S9_L008_R2_trimmomatic.fastq.gz /scratch/mbitter/ExomeCapture_Scratch/Adult_Trimmomatic_Reads/CP-MB-pl1-MB-09_S9_L008_R2_UP_trimmomatic.fastq.gz ILLUMINACLIP:/scratch/mbitter/ExomeCapture_Scratch/TruSeqAdapters.fa:2:30:10 LEADING:3 TRAILING:3 SLIDINGWINDOW:4:15 MINLEN:36                       \n",
    "java -jar $TRIMMOMATIC PE -threads 8 -phred33 /group/pfister-lab/Bitter/ExomeCapture/Adult_RawSeqeunces201806/CP-MB-pl1-MB-10_S10_L008_R1_001.fastq.gz /group/pfister-lab/Bitter/ExomeCapture/Adult_RawSeqeunces201806/CP-MB-pl1-MB-10_S10_L008_R2_001.fastq.gz /scratch/mbitter/ExomeCapture_Scratch/Adult_Trimmomatic_Reads/CP-MB-pl1-MB-10_S10_L008_R1_trimmomatic.fastq.gz /scratch/mbitter/ExomeCapture_Scratch/Adult_Trimmomatic_Reads/CP-MB-pl1-MB-10_S10_L008_R1_UP_trimmomatic.fastq.gz /scratch/mbitter/ExomeCapture_Scratch/Adult_Trimmomatic_Reads/CP-MB-pl1-MB-10_S10_L008_R2_trimmomatic.fastq.gz /scratch/mbitter/ExomeCapture_Scratch/Adult_Trimmomatic_Reads/CP-MB-pl1-MB-10_S10_L008_R2_UP_trimmomatic.fastq.gz ILLUMINACLIP:/scratch/mbitter/ExomeCapture_Scratch/TruSeqAdapters.fa:2:30:10 LEADING:3 TRAILING:3 SLIDINGWINDOW:4:15 MINLEN:36                       \n",
    "java -jar $TRIMMOMATIC PE -threads 8 -phred33 /group/pfister-lab/Bitter/ExomeCapture/Adult_RawSeqeunces201806/CP-MB-pl1-MB-11_S11_L008_R1_001.fastq.gz /group/pfister-lab/Bitter/ExomeCapture/Adult_RawSeqeunces201806/CP-MB-pl1-MB-11_S11_L008_R2_001.fastq.gz /scratch/mbitter/ExomeCapture_Scratch/Adult_Trimmomatic_Reads/CP-MB-pl1-MB-11_S11_L008_R1_trimmomatic.fastq.gz /scratch/mbitter/ExomeCapture_Scratch/Adult_Trimmomatic_Reads/CP-MB-pl1-MB-11_S11_L008_R1_UP_trimmomatic.fastq.gz /scratch/mbitter/ExomeCapture_Scratch/Adult_Trimmomatic_Reads/CP-MB-pl1-MB-11_S11_L008_R2_trimmomatic.fastq.gz /scratch/mbitter/ExomeCapture_Scratch/Adult_Trimmomatic_Reads/CP-MB-pl1-MB-11_S11_L008_R2_UP_trimmomatic.fastq.gz ILLUMINACLIP:/scratch/mbitter/ExomeCapture_Scratch/TruSeqAdapters.fa:2:30:10 LEADING:3 TRAILING:3 SLIDINGWINDOW:4:15 MINLEN:36                       \n",
    "java -jar $TRIMMOMATIC PE -threads 8 -phred33 /group/pfister-lab/Bitter/ExomeCapture/Adult_RawSeqeunces201806/CP-MB-pl1-MB-12_S12_L008_R1_001.fastq.gz /group/pfister-lab/Bitter/ExomeCapture/Adult_RawSeqeunces201806/CP-MB-pl1-MB-12_S12_L008_R2_001.fastq.gz /scratch/mbitter/ExomeCapture_Scratch/Adult_Trimmomatic_Reads/CP-MB-pl1-MB-12_S12_L008_R1_trimmomatic.fastq.gz /scratch/mbitter/ExomeCapture_Scratch/Adult_Trimmomatic_Reads/CP-MB-pl1-MB-12_S12_L008_R1_UP_trimmomatic.fastq.gz /scratch/mbitter/ExomeCapture_Scratch/Adult_Trimmomatic_Reads/CP-MB-pl1-MB-12_S12_L008_R2_trimmomatic.fastq.gz /scratch/mbitter/ExomeCapture_Scratch/Adult_Trimmomatic_Reads/CP-MB-pl1-MB-12_S12_L008_R2_UP_trimmomatic.fastq.gz ILLUMINACLIP:/scratch/mbitter/ExomeCapture_Scratch/TruSeqAdapters.fa:2:30:10 LEADING:3 TRAILING:3 SLIDINGWINDOW:4:15 MINLEN:36                       \n",
    "java -jar $TRIMMOMATIC PE -threads 8 -phred33 /group/pfister-lab/Bitter/ExomeCapture/Adult_RawSeqeunces201806/CP-MB-pl1-MB-13_S13_L008_R1_001.fastq.gz /group/pfister-lab/Bitter/ExomeCapture/Adult_RawSeqeunces201806/CP-MB-pl1-MB-13_S13_L008_R2_001.fastq.gz /scratch/mbitter/ExomeCapture_Scratch/Adult_Trimmomatic_Reads/CP-MB-pl1-MB-13_S13_L008_R1_trimmomatic.fastq.gz /scratch/mbitter/ExomeCapture_Scratch/Adult_Trimmomatic_Reads/CP-MB-pl1-MB-13_S13_L008_R1_UP_trimmomatic.fastq.gz /scratch/mbitter/ExomeCapture_Scratch/Adult_Trimmomatic_Reads/CP-MB-pl1-MB-13_S13_L008_R2_trimmomatic.fastq.gz /scratch/mbitter/ExomeCapture_Scratch/Adult_Trimmomatic_Reads/CP-MB-pl1-MB-13_S13_L008_R2_UP_trimmomatic.fastq.gz ILLUMINACLIP:/scratch/mbitter/ExomeCapture_Scratch/TruSeqAdapters.fa:2:30:10 LEADING:3 TRAILING:3 SLIDINGWINDOW:4:15 MINLEN:36                       \n",
    "java -jar $TRIMMOMATIC PE -threads 8 -phred33 /group/pfister-lab/Bitter/ExomeCapture/Adult_RawSeqeunces201806/CP-MB-pl1-MB-14_S14_L008_R1_001.fastq.gz /group/pfister-lab/Bitter/ExomeCapture/Adult_RawSeqeunces201806/CP-MB-pl1-MB-14_S14_L008_R2_001.fastq.gz /scratch/mbitter/ExomeCapture_Scratch/Adult_Trimmomatic_Reads/CP-MB-pl1-MB-14_S14_L008_R1_trimmomatic.fastq.gz /scratch/mbitter/ExomeCapture_Scratch/Adult_Trimmomatic_Reads/CP-MB-pl1-MB-14_S14_L008_R1_UP_trimmomatic.fastq.gz /scratch/mbitter/ExomeCapture_Scratch/Adult_Trimmomatic_Reads/CP-MB-pl1-MB-14_S14_L008_R2_trimmomatic.fastq.gz /scratch/mbitter/ExomeCapture_Scratch/Adult_Trimmomatic_Reads/CP-MB-pl1-MB-14_S14_L008_R2_UP_trimmomatic.fastq.gz ILLUMINACLIP:/scratch/mbitter/ExomeCapture_Scratch/TruSeqAdapters.fa:2:30:10 LEADING:3 TRAILING:3 SLIDINGWINDOW:4:15 MINLEN:36                       \n",
    "java -jar $TRIMMOMATIC PE -threads 8 -phred33 /group/pfister-lab/Bitter/ExomeCapture/Adult_RawSeqeunces201806/CP-MB-pl1-MB-15_S15_L008_R1_001.fastq.gz /group/pfister-lab/Bitter/ExomeCapture/Adult_RawSeqeunces201806/CP-MB-pl1-MB-15_S15_L008_R2_001.fastq.gz /scratch/mbitter/ExomeCapture_Scratch/Adult_Trimmomatic_Reads/CP-MB-pl1-MB-15_S15_L008_R1_trimmomatic.fastq.gz /scratch/mbitter/ExomeCapture_Scratch/Adult_Trimmomatic_Reads/CP-MB-pl1-MB-15_S15_L008_R1_UP_trimmomatic.fastq.gz /scratch/mbitter/ExomeCapture_Scratch/Adult_Trimmomatic_Reads/CP-MB-pl1-MB-15_S15_L008_R2_trimmomatic.fastq.gz /scratch/mbitter/ExomeCapture_Scratch/Adult_Trimmomatic_Reads/CP-MB-pl1-MB-15_S15_L008_R2_UP_trimmomatic.fastq.gz ILLUMINACLIP:/scratch/mbitter/ExomeCapture_Scratch/TruSeqAdapters.fa:2:30:10 LEADING:3 TRAILING:3 SLIDINGWINDOW:4:15 MINLEN:36                       \n",
    "java -jar $TRIMMOMATIC PE -threads 8 -phred33 /group/pfister-lab/Bitter/ExomeCapture/Adult_RawSeqeunces201806/CP-MB-pl1-MB-16_S16_L008_R1_001.fastq.gz /group/pfister-lab/Bitter/ExomeCapture/Adult_RawSeqeunces201806/CP-MB-pl1-MB-16_S16_L008_R2_001.fastq.gz /scratch/mbitter/ExomeCapture_Scratch/Adult_Trimmomatic_Reads/CP-MB-pl1-MB-16_S16_L008_R1_trimmomatic.fastq.gz /scratch/mbitter/ExomeCapture_Scratch/Adult_Trimmomatic_Reads/CP-MB-pl1-MB-16_S16_L008_R1_UP_trimmomatic.fastq.gz /scratch/mbitter/ExomeCapture_Scratch/Adult_Trimmomatic_Reads/CP-MB-pl1-MB-16_S16_L008_R2_trimmomatic.fastq.gz /scratch/mbitter/ExomeCapture_Scratch/Adult_Trimmomatic_Reads/CP-MB-pl1-MB-16_S16_L008_R2_UP_trimmomatic.fastq.gz ILLUMINACLIP:/scratch/mbitter/ExomeCapture_Scratch/TruSeqAdapters.fa:2:30:10 LEADING:3 TRAILING:3 SLIDINGWINDOW:4:15 MINLEN:36                       \n",
    "java -jar $TRIMMOMATIC PE -threads 8 -phred33 /group/pfister-lab/Bitter/ExomeCapture/Adult_RawSeqeunces201806/CP-MB-pl1-MB-17_S17_L008_R1_001.fastq.gz /group/pfister-lab/Bitter/ExomeCapture/Adult_RawSeqeunces201806/CP-MB-pl1-MB-17_S17_L008_R2_001.fastq.gz /scratch/mbitter/ExomeCapture_Scratch/Adult_Trimmomatic_Reads/CP-MB-pl1-MB-17_S17_L008_R1_trimmomatic.fastq.gz /scratch/mbitter/ExomeCapture_Scratch/Adult_Trimmomatic_Reads/CP-MB-pl1-MB-17_S17_L008_R1_UP_trimmomatic.fastq.gz /scratch/mbitter/ExomeCapture_Scratch/Adult_Trimmomatic_Reads/CP-MB-pl1-MB-17_S17_L008_R2_trimmomatic.fastq.gz /scratch/mbitter/ExomeCapture_Scratch/Adult_Trimmomatic_Reads/CP-MB-pl1-MB-17_S17_L008_R2_UP_trimmomatic.fastq.gz ILLUMINACLIP:/scratch/mbitter/ExomeCapture_Scratch/TruSeqAdapters.fa:2:30:10 LEADING:3 TRAILING:3 SLIDINGWINDOW:4:15 MINLEN:36                       \n",
    "java -jar $TRIMMOMATIC PE -threads 8 -phred33 /group/pfister-lab/Bitter/ExomeCapture/Adult_RawSeqeunces201806/CP-MB-pl1-MB-18_S18_L008_R1_001.fastq.gz /group/pfister-lab/Bitter/ExomeCapture/Adult_RawSeqeunces201806/CP-MB-pl1-MB-18_S18_L008_R2_001.fastq.gz /scratch/mbitter/ExomeCapture_Scratch/Adult_Trimmomatic_Reads/CP-MB-pl1-MB-18_S18_L008_R1_trimmomatic.fastq.gz /scratch/mbitter/ExomeCapture_Scratch/Adult_Trimmomatic_Reads/CP-MB-pl1-MB-18_S18_L008_R1_UP_trimmomatic.fastq.gz /scratch/mbitter/ExomeCapture_Scratch/Adult_Trimmomatic_Reads/CP-MB-pl1-MB-18_S18_L008_R2_trimmomatic.fastq.gz /scratch/mbitter/ExomeCapture_Scratch/Adult_Trimmomatic_Reads/CP-MB-pl1-MB-18_S18_L008_R2_UP_trimmomatic.fastq.gz ILLUMINACLIP:/scratch/mbitter/ExomeCapture_Scratch/TruSeqAdapters.fa:2:30:10 LEADING:3 TRAILING:3 SLIDINGWINDOW:4:15 MINLEN:36                       \n",
    "java -jar $TRIMMOMATIC PE -threads 8 -phred33 /group/pfister-lab/Bitter/ExomeCapture/Adult_RawSeqeunces201806/CP-MB-pl1-MB-19_S19_L008_R1_001.fastq.gz /group/pfister-lab/Bitter/ExomeCapture/Adult_RawSeqeunces201806/CP-MB-pl1-MB-19_S19_L008_R2_001.fastq.gz /scratch/mbitter/ExomeCapture_Scratch/Adult_Trimmomatic_Reads/CP-MB-pl1-MB-19_S19_L008_R1_trimmomatic.fastq.gz /scratch/mbitter/ExomeCapture_Scratch/Adult_Trimmomatic_Reads/CP-MB-pl1-MB-19_S19_L008_R1_UP_trimmomatic.fastq.gz /scratch/mbitter/ExomeCapture_Scratch/Adult_Trimmomatic_Reads/CP-MB-pl1-MB-19_S19_L008_R2_trimmomatic.fastq.gz /scratch/mbitter/ExomeCapture_Scratch/Adult_Trimmomatic_Reads/CP-MB-pl1-MB-19_S19_L008_R2_UP_trimmomatic.fastq.gz ILLUMINACLIP:/scratch/mbitter/ExomeCapture_Scratch/TruSeqAdapters.fa:2:30:10 LEADING:3 TRAILING:3 SLIDINGWINDOW:4:15 MINLEN:36                       \n",
    "java -jar $TRIMMOMATIC PE -threads 8 -phred33 /group/pfister-lab/Bitter/ExomeCapture/Adult_RawSeqeunces201806/CP-MB-pl1-MB-20_S20_L008_R1_001.fastq.gz /group/pfister-lab/Bitter/ExomeCapture/Adult_RawSeqeunces201806/CP-MB-pl1-MB-20_S20_L008_R2_001.fastq.gz /scratch/mbitter/ExomeCapture_Scratch/Adult_Trimmomatic_Reads/CP-MB-pl1-MB-20_S20_L008_R1_trimmomatic.fastq.gz /scratch/mbitter/ExomeCapture_Scratch/Adult_Trimmomatic_Reads/CP-MB-pl1-MB-20_S20_L008_R1_UP_trimmomatic.fastq.gz /scratch/mbitter/ExomeCapture_Scratch/Adult_Trimmomatic_Reads/CP-MB-pl1-MB-20_S20_L008_R2_trimmomatic.fastq.gz /scratch/mbitter/ExomeCapture_Scratch/Adult_Trimmomatic_Reads/CP-MB-pl1-MB-20_S20_L008_R2_UP_trimmomatic.fastq.gz ILLUMINACLIP:/scratch/mbitter/ExomeCapture_Scratch/TruSeqAdapters.fa:2:30:10 LEADING:3 TRAILING:3 SLIDINGWINDOW:4:15 MINLEN:36                       \n",
    "java -jar $TRIMMOMATIC PE -threads 8 -phred33 /group/pfister-lab/Bitter/ExomeCapture/Adult_RawSeqeunces201806/CP-MB-pl1-MB-21_S21_L008_R1_001.fastq.gz /group/pfister-lab/Bitter/ExomeCapture/Adult_RawSeqeunces201806/CP-MB-pl1-MB-21_S21_L008_R2_001.fastq.gz /scratch/mbitter/ExomeCapture_Scratch/Adult_Trimmomatic_Reads/CP-MB-pl1-MB-21_S21_L008_R1_trimmomatic.fastq.gz /scratch/mbitter/ExomeCapture_Scratch/Adult_Trimmomatic_Reads/CP-MB-pl1-MB-21_S21_L008_R1_UP_trimmomatic.fastq.gz /scratch/mbitter/ExomeCapture_Scratch/Adult_Trimmomatic_Reads/CP-MB-pl1-MB-21_S21_L008_R2_trimmomatic.fastq.gz /scratch/mbitter/ExomeCapture_Scratch/Adult_Trimmomatic_Reads/CP-MB-pl1-MB-21_S21_L008_R2_UP_trimmomatic.fastq.gz ILLUMINACLIP:/scratch/mbitter/ExomeCapture_Scratch/TruSeqAdapters.fa:2:30:10 LEADING:3 TRAILING:3 SLIDINGWINDOW:4:15 MINLEN:36                       \n",
    "java -jar $TRIMMOMATIC PE -threads 8 -phred33 /group/pfister-lab/Bitter/ExomeCapture/Adult_RawSeqeunces201806/CP-MB-pl1-MB-22_S22_L008_R1_001.fastq.gz /group/pfister-lab/Bitter/ExomeCapture/Adult_RawSeqeunces201806/CP-MB-pl1-MB-22_S22_L008_R2_001.fastq.gz /scratch/mbitter/ExomeCapture_Scratch/Adult_Trimmomatic_Reads/CP-MB-pl1-MB-22_S22_L008_R1_trimmomatic.fastq.gz /scratch/mbitter/ExomeCapture_Scratch/Adult_Trimmomatic_Reads/CP-MB-pl1-MB-22_S22_L008_R1_UP_trimmomatic.fastq.gz /scratch/mbitter/ExomeCapture_Scratch/Adult_Trimmomatic_Reads/CP-MB-pl1-MB-22_S22_L008_R2_trimmomatic.fastq.gz /scratch/mbitter/ExomeCapture_Scratch/Adult_Trimmomatic_Reads/CP-MB-pl1-MB-22_S22_L008_R2_UP_trimmomatic.fastq.gz ILLUMINACLIP:/scratch/mbitter/ExomeCapture_Scratch/TruSeqAdapters.fa:2:30:10 LEADING:3 TRAILING:3 SLIDINGWINDOW:4:15 MINLEN:36                       \n",
    "java -jar $TRIMMOMATIC PE -threads 8 -phred33 /group/pfister-lab/Bitter/ExomeCapture/Adult_RawSeqeunces201806/CP-MB-pl1-MB-23_S23_L008_R1_001.fastq.gz /group/pfister-lab/Bitter/ExomeCapture/Adult_RawSeqeunces201806/CP-MB-pl1-MB-23_S23_L008_R2_001.fastq.gz /scratch/mbitter/ExomeCapture_Scratch/Adult_Trimmomatic_Reads/CP-MB-pl1-MB-23_S23_L008_R1_trimmomatic.fastq.gz /scratch/mbitter/ExomeCapture_Scratch/Adult_Trimmomatic_Reads/CP-MB-pl1-MB-23_S23_L008_R1_UP_trimmomatic.fastq.gz /scratch/mbitter/ExomeCapture_Scratch/Adult_Trimmomatic_Reads/CP-MB-pl1-MB-23_S23_L008_R2_trimmomatic.fastq.gz /scratch/mbitter/ExomeCapture_Scratch/Adult_Trimmomatic_Reads/CP-MB-pl1-MB-23_S23_L008_R2_UP_trimmomatic.fastq.gz ILLUMINACLIP:/scratch/mbitter/ExomeCapture_Scratch/TruSeqAdapters.fa:2:30:10 LEADING:3 TRAILING:3 SLIDINGWINDOW:4:15 MINLEN:36                       \n",
    "java -jar $TRIMMOMATIC PE -threads 8 -phred33 /group/pfister-lab/Bitter/ExomeCapture/Adult_RawSeqeunces201806/CP-MB-pl1-MB-24_S24_L008_R1_001.fastq.gz /group/pfister-lab/Bitter/ExomeCapture/Adult_RawSeqeunces201806/CP-MB-pl1-MB-24_S24_L008_R2_001.fastq.gz /scratch/mbitter/ExomeCapture_Scratch/Adult_Trimmomatic_Reads/CP-MB-pl1-MB-24_S24_L008_R1_trimmomatic.fastq.gz /scratch/mbitter/ExomeCapture_Scratch/Adult_Trimmomatic_Reads/CP-MB-pl1-MB-24_S24_L008_R1_UP_trimmomatic.fastq.gz /scratch/mbitter/ExomeCapture_Scratch/Adult_Trimmomatic_Reads/CP-MB-pl1-MB-24_S24_L008_R2_trimmomatic.fastq.gz /scratch/mbitter/ExomeCapture_Scratch/Adult_Trimmomatic_Reads/CP-MB-pl1-MB-24_S24_L008_R2_UP_trimmomatic.fastq.gz ILLUMINACLIP:/scratch/mbitter/ExomeCapture_Scratch/TruSeqAdapters.fa:2:30:10 LEADING:3 TRAILING:3 SLIDINGWINDOW:4:15 MINLEN:36                       \n",
    "java -jar $TRIMMOMATIC PE -threads 8 -phred33 /group/pfister-lab/Bitter/ExomeCapture/Adult_RawSeqeunces201806/CP-MB-pl1-MB-25_S25_L008_R1_001.fastq.gz /group/pfister-lab/Bitter/ExomeCapture/Adult_RawSeqeunces201806/CP-MB-pl1-MB-25_S25_L008_R2_001.fastq.gz /scratch/mbitter/ExomeCapture_Scratch/Adult_Trimmomatic_Reads/CP-MB-pl1-MB-25_S25_L008_R1_trimmomatic.fastq.gz /scratch/mbitter/ExomeCapture_Scratch/Adult_Trimmomatic_Reads/CP-MB-pl1-MB-25_S25_L008_R1_UP_trimmomatic.fastq.gz /scratch/mbitter/ExomeCapture_Scratch/Adult_Trimmomatic_Reads/CP-MB-pl1-MB-25_S25_L008_R2_trimmomatic.fastq.gz /scratch/mbitter/ExomeCapture_Scratch/Adult_Trimmomatic_Reads/CP-MB-pl1-MB-25_S25_L008_R2_UP_trimmomatic.fastq.gz ILLUMINACLIP:/scratch/mbitter/ExomeCapture_Scratch/TruSeqAdapters.fa:2:30:10 LEADING:3 TRAILING:3 SLIDINGWINDOW:4:15 MINLEN:36                       \n",
    "java -jar $TRIMMOMATIC PE -threads 8 -phred33 /group/pfister-lab/Bitter/ExomeCapture/Adult_RawSeqeunces201806/CP-MB-pl1-MB-26_S26_L008_R1_001.fastq.gz /group/pfister-lab/Bitter/ExomeCapture/Adult_RawSeqeunces201806/CP-MB-pl1-MB-26_S26_L008_R2_001.fastq.gz /scratch/mbitter/ExomeCapture_Scratch/Adult_Trimmomatic_Reads/CP-MB-pl1-MB-26_S26_L008_R1_trimmomatic.fastq.gz /scratch/mbitter/ExomeCapture_Scratch/Adult_Trimmomatic_Reads/CP-MB-pl1-MB-26_S26_L008_R1_UP_trimmomatic.fastq.gz /scratch/mbitter/ExomeCapture_Scratch/Adult_Trimmomatic_Reads/CP-MB-pl1-MB-26_S26_L008_R2_trimmomatic.fastq.gz /scratch/mbitter/ExomeCapture_Scratch/Adult_Trimmomatic_Reads/CP-MB-pl1-MB-26_S26_L008_R2_UP_trimmomatic.fastq.gz ILLUMINACLIP:/scratch/mbitter/ExomeCapture_Scratch/TruSeqAdapters.fa:2:30:10 LEADING:3 TRAILING:3 SLIDINGWINDOW:4:15 MINLEN:36                       \n",
    "java -jar $TRIMMOMATIC PE -threads 8 -phred33 /group/pfister-lab/Bitter/ExomeCapture/Adult_RawSeqeunces201806/CP-MB-pl1-MB-27_S27_L008_R1_001.fastq.gz /group/pfister-lab/Bitter/ExomeCapture/Adult_RawSeqeunces201806/CP-MB-pl1-MB-27_S27_L008_R2_001.fastq.gz /scratch/mbitter/ExomeCapture_Scratch/Adult_Trimmomatic_Reads/CP-MB-pl1-MB-27_S27_L008_R1_trimmomatic.fastq.gz /scratch/mbitter/ExomeCapture_Scratch/Adult_Trimmomatic_Reads/CP-MB-pl1-MB-27_S27_L008_R1_UP_trimmomatic.fastq.gz /scratch/mbitter/ExomeCapture_Scratch/Adult_Trimmomatic_Reads/CP-MB-pl1-MB-27_S27_L008_R2_trimmomatic.fastq.gz /scratch/mbitter/ExomeCapture_Scratch/Adult_Trimmomatic_Reads/CP-MB-pl1-MB-27_S27_L008_R2_UP_trimmomatic.fastq.gz ILLUMINACLIP:/scratch/mbitter/ExomeCapture_Scratch/TruSeqAdapters.fa:2:30:10 LEADING:3 TRAILING:3 SLIDINGWINDOW:4:15 MINLEN:36                       \n",
    "java -jar $TRIMMOMATIC PE -threads 8 -phred33 /group/pfister-lab/Bitter/ExomeCapture/Adult_RawSeqeunces201806/CP-MB-pl1-MB-28_S28_L008_R1_001.fastq.gz /group/pfister-lab/Bitter/ExomeCapture/Adult_RawSeqeunces201806/CP-MB-pl1-MB-28_S28_L008_R2_001.fastq.gz /scratch/mbitter/ExomeCapture_Scratch/Adult_Trimmomatic_Reads/CP-MB-pl1-MB-28_S28_L008_R1_trimmomatic.fastq.gz /scratch/mbitter/ExomeCapture_Scratch/Adult_Trimmomatic_Reads/CP-MB-pl1-MB-28_S28_L008_R1_UP_trimmomatic.fastq.gz /scratch/mbitter/ExomeCapture_Scratch/Adult_Trimmomatic_Reads/CP-MB-pl1-MB-28_S28_L008_R2_trimmomatic.fastq.gz /scratch/mbitter/ExomeCapture_Scratch/Adult_Trimmomatic_Reads/CP-MB-pl1-MB-28_S28_L008_R2_UP_trimmomatic.fastq.gz ILLUMINACLIP:/scratch/mbitter/ExomeCapture_Scratch/TruSeqAdapters.fa:2:30:10 LEADING:3 TRAILING:3 SLIDINGWINDOW:4:15 MINLEN:36                                                 "
   ]
  },
  {
   "cell_type": "markdown",
   "metadata": {},
   "source": [
    "Re-run fastqc to make sure its all good still"
   ]
  },
  {
   "cell_type": "code",
   "execution_count": null,
   "metadata": {},
   "outputs": [],
   "source": [
    "%%sh\n",
    "\n",
    "#load modules\n",
    "module load java-jdk/1.8.0_92\n",
    "module load fastqc/0.11.5\n",
    "\n",
    "\n",
    "fastqc -o /scratch/mbitter/ExomeCapture_Scratch/Adult_FastQC_TrimmomaticReads/ --extract /scratch/mbitter/ExomeCapture_Scratch/Adult_Trimmomatic_Reads/*.fastq.gz  -t 8\n",
    "\n",
    "\n"
   ]
  },
  {
   "cell_type": "markdown",
   "metadata": {},
   "source": [
    "Once again, use MultiQC to view output"
   ]
  },
  {
   "cell_type": "code",
   "execution_count": null,
   "metadata": {},
   "outputs": [],
   "source": [
    "%%sh\n",
    "#Load modules\n",
    "module load gcc/6.2.0\n",
    "module load python/2.7.13\n",
    "\n",
    "multiqc -n Adult_Trimmomatic_PE3_multiqc /scratch/mbitter/ExomeCapture_Scratch/Adult_FastQC_TrimmomaticReads/ -o  /scratch/mbitter/ExomeCapture_Scratch/MultiQC_Output/\n"
   ]
  },
  {
   "cell_type": "markdown",
   "metadata": {},
   "source": [
    "Looks all good! On to alignment with M. galloprovincialis transcriptome."
   ]
  },
  {
   "cell_type": "code",
   "execution_count": null,
   "metadata": {},
   "outputs": [],
   "source": [
    "%%sh\n",
    "#Load modules\n",
    "module load gcc intel\n",
    "module load bowtie2\n",
    "\n",
    "\n",
    "#First, build the index using transcriptome I sent to Arboro Biosciences for the capture array design M. \n",
    "bowtie2-build --threads 14 -f /group/pfister-lab/Bitter/PublishedSequences/MoreiraTranscriptome/Mgalloprovincialis_transcripts_final.fa /scratch/mbitter/ExomeCapture_Scratch/AdultTranscriptomeAlignment/MgalloTranscriptomeIndex\n"
   ]
  },
  {
   "cell_type": "code",
   "execution_count": null,
   "metadata": {},
   "outputs": [],
   "source": [
    "%%sh\n",
    "#Load modules\n",
    "module load gcc intel\n",
    "module load bowtie2\n",
    "\n",
    "#Align all adult read files to the transcriptome\n",
    "bowtie2 --local -x /scratch/mbitter/ExomeCapture_Scratch/AdultTranscriptomeAlignment/MgalloTranscriptomeIndex -1 /scratch/mbitter/ExomeCapture_Scratch/Adult_Trimmomatic_Reads/CP-MB-pl1-MB-01_S1_L008_R1_trimmomatic.fastq.gz -2 /scratch/mbitter/ExomeCapture_Scratch/Adult_Trimmomatic_Reads/CP-MB-pl1-MB-01_S1_L008_R2_trimmomatic.fastq.gz -U /scratch/mbitter/ExomeCapture_Scratch/Adult_Trimmomatic_Reads/CP-MB-pl1-MB-01_S1_L008_R1_UP_trimmomatic.fastq.gz -U /scratch/mbitter/ExomeCapture_Scratch/Adult_Trimmomatic_Reads/CP-MB-pl1-MB-01_S1_L008_R2_UP_trimmomatic.fastq.gz -S /scratch/mbitter/ExomeCapture_Scratch/AdultTranscriptomeAlignment/MappedReads/CP-MB-pl1-MB-01_S1_bt2.sam -p 14 2>/scratch/mbitter/ExomeCapture_Scratch/AdultTranscriptomeAlignment/MappedReads/CP-MB-pl1-MB-01_S1_bt2.stout\n",
    "bowtie2 --local -x /scratch/mbitter/ExomeCapture_Scratch/AdultTranscriptomeAlignment/MgalloTranscriptomeIndex -1 /scratch/mbitter/ExomeCapture_Scratch/Adult_Trimmomatic_Reads/CP-MB-pl1-MB-02_S2_L008_R1_trimmomatic.fastq.gz -2 /scratch/mbitter/ExomeCapture_Scratch/Adult_Trimmomatic_Reads/CP-MB-pl1-MB-02_S2_L008_R2_trimmomatic.fastq.gz -U /scratch/mbitter/ExomeCapture_Scratch/Adult_Trimmomatic_Reads/CP-MB-pl1-MB-02_S2_L008_R1_UP_trimmomatic.fastq.gz -U /scratch/mbitter/ExomeCapture_Scratch/Adult_Trimmomatic_Reads/CP-MB-pl1-MB-02_S2_L008_R2_UP_trimmomatic.fastq.gz -S /scratch/mbitter/ExomeCapture_Scratch/AdultTranscriptomeAlignment/MappedReads/CP-MB-pl1-MB-02_S2_bt2.sam -p 14 2>/scratch/mbitter/ExomeCapture_Scratch/AdultTranscriptomeAlignment/MappedReads/CP-MB-pl1-MB-02_S2_bt2.stout\n",
    "bowtie2 --local -x /scratch/mbitter/ExomeCapture_Scratch/AdultTranscriptomeAlignment/MgalloTranscriptomeIndex -1 /scratch/mbitter/ExomeCapture_Scratch/Adult_Trimmomatic_Reads/CP-MB-pl1-MB-03_S3_L008_R1_trimmomatic.fastq.gz -2 /scratch/mbitter/ExomeCapture_Scratch/Adult_Trimmomatic_Reads/CP-MB-pl1-MB-03_S3_L008_R2_trimmomatic.fastq.gz -U /scratch/mbitter/ExomeCapture_Scratch/Adult_Trimmomatic_Reads/CP-MB-pl1-MB-03_S3_L008_R1_UP_trimmomatic.fastq.gz -U /scratch/mbitter/ExomeCapture_Scratch/Adult_Trimmomatic_Reads/CP-MB-pl1-MB-03_S3_L008_R2_UP_trimmomatic.fastq.gz -S /scratch/mbitter/ExomeCapture_Scratch/AdultTranscriptomeAlignment/MappedReads/CP-MB-pl1-MB-03_S3_bt2.sam -p 14 2>/scratch/mbitter/ExomeCapture_Scratch/AdultTranscriptomeAlignment/MappedReads/CP-MB-pl1-MB-03_S3_bt2.stout\n",
    "bowtie2 --local -x /scratch/mbitter/ExomeCapture_Scratch/AdultTranscriptomeAlignment/MgalloTranscriptomeIndex -1 /scratch/mbitter/ExomeCapture_Scratch/Adult_Trimmomatic_Reads/CP-MB-pl1-MB-04_S4_L008_R1_trimmomatic.fastq.gz -2 /scratch/mbitter/ExomeCapture_Scratch/Adult_Trimmomatic_Reads/CP-MB-pl1-MB-04_S4_L008_R2_trimmomatic.fastq.gz -U /scratch/mbitter/ExomeCapture_Scratch/Adult_Trimmomatic_Reads/CP-MB-pl1-MB-04_S4_L008_R1_UP_trimmomatic.fastq.gz -U /scratch/mbitter/ExomeCapture_Scratch/Adult_Trimmomatic_Reads/CP-MB-pl1-MB-04_S4_L008_R2_UP_trimmomatic.fastq.gz -S /scratch/mbitter/ExomeCapture_Scratch/AdultTranscriptomeAlignment/MappedReads/CP-MB-pl1-MB-04_S4_bt2.sam -p 14 2>/scratch/mbitter/ExomeCapture_Scratch/AdultTranscriptomeAlignment/MappedReads/CP-MB-pl1-MB-04_S4_bt2.stout\n",
    "bowtie2 --local -x /scratch/mbitter/ExomeCapture_Scratch/AdultTranscriptomeAlignment/MgalloTranscriptomeIndex -1 /scratch/mbitter/ExomeCapture_Scratch/Adult_Trimmomatic_Reads/CP-MB-pl1-MB-05_S5_L008_R1_trimmomatic.fastq.gz -2 /scratch/mbitter/ExomeCapture_Scratch/Adult_Trimmomatic_Reads/CP-MB-pl1-MB-05_S5_L008_R2_trimmomatic.fastq.gz -U /scratch/mbitter/ExomeCapture_Scratch/Adult_Trimmomatic_Reads/CP-MB-pl1-MB-05_S5_L008_R1_UP_trimmomatic.fastq.gz -U /scratch/mbitter/ExomeCapture_Scratch/Adult_Trimmomatic_Reads/CP-MB-pl1-MB-05_S5_L008_R2_UP_trimmomatic.fastq.gz -S /scratch/mbitter/ExomeCapture_Scratch/AdultTranscriptomeAlignment/MappedReads/CP-MB-pl1-MB-05_S5_bt2.sam -p 14 2>/scratch/mbitter/ExomeCapture_Scratch/AdultTranscriptomeAlignment/MappedReads/CP-MB-pl1-MB-05_S5_bt2.stout\n",
    "bowtie2 --local -x /scratch/mbitter/ExomeCapture_Scratch/AdultTranscriptomeAlignment/MgalloTranscriptomeIndex -1 /scratch/mbitter/ExomeCapture_Scratch/Adult_Trimmomatic_Reads/CP-MB-pl1-MB-06_S6_L008_R1_trimmomatic.fastq.gz -2 /scratch/mbitter/ExomeCapture_Scratch/Adult_Trimmomatic_Reads/CP-MB-pl1-MB-06_S6_L008_R2_trimmomatic.fastq.gz -U /scratch/mbitter/ExomeCapture_Scratch/Adult_Trimmomatic_Reads/CP-MB-pl1-MB-06_S6_L008_R1_UP_trimmomatic.fastq.gz -U /scratch/mbitter/ExomeCapture_Scratch/Adult_Trimmomatic_Reads/CP-MB-pl1-MB-06_S6_L008_R2_UP_trimmomatic.fastq.gz -S /scratch/mbitter/ExomeCapture_Scratch/AdultTranscriptomeAlignment/MappedReads/CP-MB-pl1-MB-06_S6_bt2.sam -p 14 2>/scratch/mbitter/ExomeCapture_Scratch/AdultTranscriptomeAlignment/MappedReads/CP-MB-pl1-MB-06_S6_bt2.stout\n",
    "bowtie2 --local -x /scratch/mbitter/ExomeCapture_Scratch/AdultTranscriptomeAlignment/MgalloTranscriptomeIndex -1 /scratch/mbitter/ExomeCapture_Scratch/Adult_Trimmomatic_Reads/CP-MB-pl1-MB-07_S7_L008_R1_trimmomatic.fastq.gz -2 /scratch/mbitter/ExomeCapture_Scratch/Adult_Trimmomatic_Reads/CP-MB-pl1-MB-07_S7_L008_R2_trimmomatic.fastq.gz -U /scratch/mbitter/ExomeCapture_Scratch/Adult_Trimmomatic_Reads/CP-MB-pl1-MB-07_S7_L008_R1_UP_trimmomatic.fastq.gz -U /scratch/mbitter/ExomeCapture_Scratch/Adult_Trimmomatic_Reads/CP-MB-pl1-MB-07_S7_L008_R2_UP_trimmomatic.fastq.gz -S /scratch/mbitter/ExomeCapture_Scratch/AdultTranscriptomeAlignment/MappedReads/CP-MB-pl1-MB-07_S7_bt2.sam -p 14 2>/scratch/mbitter/ExomeCapture_Scratch/AdultTranscriptomeAlignment/MappedReads/CP-MB-pl1-MB-07_S7_bt2.stout\n",
    "bowtie2 --local -x /scratch/mbitter/ExomeCapture_Scratch/AdultTranscriptomeAlignment/MgalloTranscriptomeIndex -1 /scratch/mbitter/ExomeCapture_Scratch/Adult_Trimmomatic_Reads/CP-MB-pl1-MB-08_S8_L008_R1_trimmomatic.fastq.gz -2 /scratch/mbitter/ExomeCapture_Scratch/Adult_Trimmomatic_Reads/CP-MB-pl1-MB-08_S8_L008_R2_trimmomatic.fastq.gz -U /scratch/mbitter/ExomeCapture_Scratch/Adult_Trimmomatic_Reads/CP-MB-pl1-MB-08_S8_L008_R1_UP_trimmomatic.fastq.gz -U /scratch/mbitter/ExomeCapture_Scratch/Adult_Trimmomatic_Reads/CP-MB-pl1-MB-08_S8_L008_R2_UP_trimmomatic.fastq.gz -S /scratch/mbitter/ExomeCapture_Scratch/AdultTranscriptomeAlignment/MappedReads/CP-MB-pl1-MB-08_S8_bt2.sam -p 14 2>/scratch/mbitter/ExomeCapture_Scratch/AdultTranscriptomeAlignment/MappedReads/CP-MB-pl1-MB-08_S8_bt2.stout\n",
    "bowtie2 --local -x /scratch/mbitter/ExomeCapture_Scratch/AdultTranscriptomeAlignment/MgalloTranscriptomeIndex -1 /scratch/mbitter/ExomeCapture_Scratch/Adult_Trimmomatic_Reads/CP-MB-pl1-MB-09_S9_L008_R1_trimmomatic.fastq.gz -2 /scratch/mbitter/ExomeCapture_Scratch/Adult_Trimmomatic_Reads/CP-MB-pl1-MB-09_S9_L008_R2_trimmomatic.fastq.gz -U /scratch/mbitter/ExomeCapture_Scratch/Adult_Trimmomatic_Reads/CP-MB-pl1-MB-09_S9_L008_R1_UP_trimmomatic.fastq.gz -U /scratch/mbitter/ExomeCapture_Scratch/Adult_Trimmomatic_Reads/CP-MB-pl1-MB-09_S9_L008_R2_UP_trimmomatic.fastq.gz -S /scratch/mbitter/ExomeCapture_Scratch/AdultTranscriptomeAlignment/MappedReads/CP-MB-pl1-MB-09_S9_bt2.sam -p 14 2>/scratch/mbitter/ExomeCapture_Scratch/AdultTranscriptomeAlignment/MappedReads/CP-MB-pl1-MB-09_S9_bt2.stout\n",
    "bowtie2 --local -x /scratch/mbitter/ExomeCapture_Scratch/AdultTranscriptomeAlignment/MgalloTranscriptomeIndex -1 /scratch/mbitter/ExomeCapture_Scratch/Adult_Trimmomatic_Reads/CP-MB-pl1-MB-10_S10_L008_R1_trimmomatic.fastq.gz -2 /scratch/mbitter/ExomeCapture_Scratch/Adult_Trimmomatic_Reads/CP-MB-pl1-MB-10_S10_L008_R2_trimmomatic.fastq.gz -U /scratch/mbitter/ExomeCapture_Scratch/Adult_Trimmomatic_Reads/CP-MB-pl1-MB-10_S10_L008_R1_UP_trimmomatic.fastq.gz -U /scratch/mbitter/ExomeCapture_Scratch/Adult_Trimmomatic_Reads/CP-MB-pl1-MB-10_S10_L008_R2_UP_trimmomatic.fastq.gz -S /scratch/mbitter/ExomeCapture_Scratch/AdultTranscriptomeAlignment/MappedReads/CP-MB-pl1-MB-10_S10_bt2.sam -p 14 2>/scratch/mbitter/ExomeCapture_Scratch/AdultTranscriptomeAlignment/MappedReads/CP-MB-pl1-MB-10_S10_bt2.stout\n",
    "bowtie2 --local -x /scratch/mbitter/ExomeCapture_Scratch/AdultTranscriptomeAlignment/MgalloTranscriptomeIndex -1 /scratch/mbitter/ExomeCapture_Scratch/Adult_Trimmomatic_Reads/CP-MB-pl1-MB-11_S11_L008_R1_trimmomatic.fastq.gz -2 /scratch/mbitter/ExomeCapture_Scratch/Adult_Trimmomatic_Reads/CP-MB-pl1-MB-11_S11_L008_R2_trimmomatic.fastq.gz -U /scratch/mbitter/ExomeCapture_Scratch/Adult_Trimmomatic_Reads/CP-MB-pl1-MB-11_S11_L008_R1_UP_trimmomatic.fastq.gz -U /scratch/mbitter/ExomeCapture_Scratch/Adult_Trimmomatic_Reads/CP-MB-pl1-MB-11_S11_L008_R2_UP_trimmomatic.fastq.gz -S /scratch/mbitter/ExomeCapture_Scratch/AdultTranscriptomeAlignment/MappedReads/CP-MB-pl1-MB-11_S11_bt2.sam -p 14 2>/scratch/mbitter/ExomeCapture_Scratch/AdultTranscriptomeAlignment/MappedReads/CP-MB-pl1-MB-11_S11_bt2.stout\n",
    "bowtie2 --local -x /scratch/mbitter/ExomeCapture_Scratch/AdultTranscriptomeAlignment/MgalloTranscriptomeIndex -1 /scratch/mbitter/ExomeCapture_Scratch/Adult_Trimmomatic_Reads/CP-MB-pl1-MB-12_S12_L008_R1_trimmomatic.fastq.gz -2 /scratch/mbitter/ExomeCapture_Scratch/Adult_Trimmomatic_Reads/CP-MB-pl1-MB-12_S12_L008_R2_trimmomatic.fastq.gz -U /scratch/mbitter/ExomeCapture_Scratch/Adult_Trimmomatic_Reads/CP-MB-pl1-MB-12_S12_L008_R1_UP_trimmomatic.fastq.gz -U /scratch/mbitter/ExomeCapture_Scratch/Adult_Trimmomatic_Reads/CP-MB-pl1-MB-12_S12_L008_R2_UP_trimmomatic.fastq.gz -S /scratch/mbitter/ExomeCapture_Scratch/AdultTranscriptomeAlignment/MappedReads/CP-MB-pl1-MB-12_S12_bt2.sam -p 14 2>/scratch/mbitter/ExomeCapture_Scratch/AdultTranscriptomeAlignment/MappedReads/CP-MB-pl1-MB-12_S12_bt2.stout\n",
    "bowtie2 --local -x /scratch/mbitter/ExomeCapture_Scratch/AdultTranscriptomeAlignment/MgalloTranscriptomeIndex -1 /scratch/mbitter/ExomeCapture_Scratch/Adult_Trimmomatic_Reads/CP-MB-pl1-MB-13_S13_L008_R1_trimmomatic.fastq.gz -2 /scratch/mbitter/ExomeCapture_Scratch/Adult_Trimmomatic_Reads/CP-MB-pl1-MB-13_S13_L008_R2_trimmomatic.fastq.gz -U /scratch/mbitter/ExomeCapture_Scratch/Adult_Trimmomatic_Reads/CP-MB-pl1-MB-13_S13_L008_R1_UP_trimmomatic.fastq.gz -U /scratch/mbitter/ExomeCapture_Scratch/Adult_Trimmomatic_Reads/CP-MB-pl1-MB-13_S13_L008_R2_UP_trimmomatic.fastq.gz -S /scratch/mbitter/ExomeCapture_Scratch/AdultTranscriptomeAlignment/MappedReads/CP-MB-pl1-MB-13_S13_bt2.sam -p 14 2>/scratch/mbitter/ExomeCapture_Scratch/AdultTranscriptomeAlignment/MappedReads/CP-MB-pl1-MB-13_S13_bt2.stout\n",
    "bowtie2 --local -x /scratch/mbitter/ExomeCapture_Scratch/AdultTranscriptomeAlignment/MgalloTranscriptomeIndex -1 /scratch/mbitter/ExomeCapture_Scratch/Adult_Trimmomatic_Reads/CP-MB-pl1-MB-14_S14_L008_R1_trimmomatic.fastq.gz -2 /scratch/mbitter/ExomeCapture_Scratch/Adult_Trimmomatic_Reads/CP-MB-pl1-MB-14_S14_L008_R2_trimmomatic.fastq.gz -U /scratch/mbitter/ExomeCapture_Scratch/Adult_Trimmomatic_Reads/CP-MB-pl1-MB-14_S14_L008_R1_UP_trimmomatic.fastq.gz -U /scratch/mbitter/ExomeCapture_Scratch/Adult_Trimmomatic_Reads/CP-MB-pl1-MB-14_S14_L008_R2_UP_trimmomatic.fastq.gz -S /scratch/mbitter/ExomeCapture_Scratch/AdultTranscriptomeAlignment/MappedReads/CP-MB-pl1-MB-14_S14_bt2.sam -p 14 2>/scratch/mbitter/ExomeCapture_Scratch/AdultTranscriptomeAlignment/MappedReads/CP-MB-pl1-MB-14_S14_bt2.stout\n",
    "bowtie2 --local -x /scratch/mbitter/ExomeCapture_Scratch/AdultTranscriptomeAlignment/MgalloTranscriptomeIndex -1 /scratch/mbitter/ExomeCapture_Scratch/Adult_Trimmomatic_Reads/CP-MB-pl1-MB-15_S15_L008_R1_trimmomatic.fastq.gz -2 /scratch/mbitter/ExomeCapture_Scratch/Adult_Trimmomatic_Reads/CP-MB-pl1-MB-15_S15_L008_R2_trimmomatic.fastq.gz -U /scratch/mbitter/ExomeCapture_Scratch/Adult_Trimmomatic_Reads/CP-MB-pl1-MB-15_S15_L008_R1_UP_trimmomatic.fastq.gz -U /scratch/mbitter/ExomeCapture_Scratch/Adult_Trimmomatic_Reads/CP-MB-pl1-MB-15_S15_L008_R2_UP_trimmomatic.fastq.gz -S /scratch/mbitter/ExomeCapture_Scratch/AdultTranscriptomeAlignment/MappedReads/CP-MB-pl1-MB-15_S15_bt2.sam -p 14 2>/scratch/mbitter/ExomeCapture_Scratch/AdultTranscriptomeAlignment/MappedReads/CP-MB-pl1-MB-15_S15_bt2.stout\n",
    "bowtie2 --local -x /scratch/mbitter/ExomeCapture_Scratch/AdultTranscriptomeAlignment/MgalloTranscriptomeIndex -1 /scratch/mbitter/ExomeCapture_Scratch/Adult_Trimmomatic_Reads/CP-MB-pl1-MB-16_S16_L008_R1_trimmomatic.fastq.gz -2 /scratch/mbitter/ExomeCapture_Scratch/Adult_Trimmomatic_Reads/CP-MB-pl1-MB-16_S16_L008_R2_trimmomatic.fastq.gz -U /scratch/mbitter/ExomeCapture_Scratch/Adult_Trimmomatic_Reads/CP-MB-pl1-MB-16_S16_L008_R1_UP_trimmomatic.fastq.gz -U /scratch/mbitter/ExomeCapture_Scratch/Adult_Trimmomatic_Reads/CP-MB-pl1-MB-16_S16_L008_R2_UP_trimmomatic.fastq.gz -S /scratch/mbitter/ExomeCapture_Scratch/AdultTranscriptomeAlignment/MappedReads/CP-MB-pl1-MB-16_S16_bt2.sam -p 14 2>/scratch/mbitter/ExomeCapture_Scratch/AdultTranscriptomeAlignment/MappedReads/CP-MB-pl1-MB-16_S16_bt2.stout\n",
    "bowtie2 --local -x /scratch/mbitter/ExomeCapture_Scratch/AdultTranscriptomeAlignment/MgalloTranscriptomeIndex -1 /scratch/mbitter/ExomeCapture_Scratch/Adult_Trimmomatic_Reads/CP-MB-pl1-MB-17_S17_L008_R1_trimmomatic.fastq.gz -2 /scratch/mbitter/ExomeCapture_Scratch/Adult_Trimmomatic_Reads/CP-MB-pl1-MB-17_S17_L008_R2_trimmomatic.fastq.gz -U /scratch/mbitter/ExomeCapture_Scratch/Adult_Trimmomatic_Reads/CP-MB-pl1-MB-17_S17_L008_R1_UP_trimmomatic.fastq.gz -U /scratch/mbitter/ExomeCapture_Scratch/Adult_Trimmomatic_Reads/CP-MB-pl1-MB-17_S17_L008_R2_UP_trimmomatic.fastq.gz -S /scratch/mbitter/ExomeCapture_Scratch/AdultTranscriptomeAlignment/MappedReads/CP-MB-pl1-MB-17_S17_bt2.sam -p 14 2>/scratch/mbitter/ExomeCapture_Scratch/AdultTranscriptomeAlignment/MappedReads/CP-MB-pl1-MB-17_S17_bt2.stout\n",
    "bowtie2 --local -x /scratch/mbitter/ExomeCapture_Scratch/AdultTranscriptomeAlignment/MgalloTranscriptomeIndex -1 /scratch/mbitter/ExomeCapture_Scratch/Adult_Trimmomatic_Reads/CP-MB-pl1-MB-18_S18_L008_R1_trimmomatic.fastq.gz -2 /scratch/mbitter/ExomeCapture_Scratch/Adult_Trimmomatic_Reads/CP-MB-pl1-MB-18_S18_L008_R2_trimmomatic.fastq.gz -U /scratch/mbitter/ExomeCapture_Scratch/Adult_Trimmomatic_Reads/CP-MB-pl1-MB-18_S18_L008_R1_UP_trimmomatic.fastq.gz -U /scratch/mbitter/ExomeCapture_Scratch/Adult_Trimmomatic_Reads/CP-MB-pl1-MB-18_S18_L008_R2_UP_trimmomatic.fastq.gz -S /scratch/mbitter/ExomeCapture_Scratch/AdultTranscriptomeAlignment/MappedReads/CP-MB-pl1-MB-18_S18_bt2.sam -p 14 2>/scratch/mbitter/ExomeCapture_Scratch/AdultTranscriptomeAlignment/MappedReads/CP-MB-pl1-MB-18_S18_bt2.stout\n",
    "bowtie2 --local -x /scratch/mbitter/ExomeCapture_Scratch/AdultTranscriptomeAlignment/MgalloTranscriptomeIndex -1 /scratch/mbitter/ExomeCapture_Scratch/Adult_Trimmomatic_Reads/CP-MB-pl1-MB-19_S19_L008_R1_trimmomatic.fastq.gz -2 /scratch/mbitter/ExomeCapture_Scratch/Adult_Trimmomatic_Reads/CP-MB-pl1-MB-19_S19_L008_R2_trimmomatic.fastq.gz -U /scratch/mbitter/ExomeCapture_Scratch/Adult_Trimmomatic_Reads/CP-MB-pl1-MB-19_S19_L008_R1_UP_trimmomatic.fastq.gz -U /scratch/mbitter/ExomeCapture_Scratch/Adult_Trimmomatic_Reads/CP-MB-pl1-MB-19_S19_L008_R2_UP_trimmomatic.fastq.gz -S /scratch/mbitter/ExomeCapture_Scratch/AdultTranscriptomeAlignment/MappedReads/CP-MB-pl1-MB-19_S19_bt2.sam -p 14 2>/scratch/mbitter/ExomeCapture_Scratch/AdultTranscriptomeAlignment/MappedReads/CP-MB-pl1-MB-19_S19_bt2.stout\n",
    "bowtie2 --local -x /scratch/mbitter/ExomeCapture_Scratch/AdultTranscriptomeAlignment/MgalloTranscriptomeIndex -1 /scratch/mbitter/ExomeCapture_Scratch/Adult_Trimmomatic_Reads/CP-MB-pl1-MB-20_S20_L008_R1_trimmomatic.fastq.gz -2 /scratch/mbitter/ExomeCapture_Scratch/Adult_Trimmomatic_Reads/CP-MB-pl1-MB-20_S20_L008_R2_trimmomatic.fastq.gz -U /scratch/mbitter/ExomeCapture_Scratch/Adult_Trimmomatic_Reads/CP-MB-pl1-MB-20_S20_L008_R1_UP_trimmomatic.fastq.gz -U /scratch/mbitter/ExomeCapture_Scratch/Adult_Trimmomatic_Reads/CP-MB-pl1-MB-20_S20_L008_R2_UP_trimmomatic.fastq.gz -S /scratch/mbitter/ExomeCapture_Scratch/AdultTranscriptomeAlignment/MappedReads/CP-MB-pl1-MB-20_S20_bt2.sam -p 14 2>/scratch/mbitter/ExomeCapture_Scratch/AdultTranscriptomeAlignment/MappedReads/CP-MB-pl1-MB-20_S20_bt2.stout\n",
    "bowtie2 --local -x /scratch/mbitter/ExomeCapture_Scratch/AdultTranscriptomeAlignment/MgalloTranscriptomeIndex -1 /scratch/mbitter/ExomeCapture_Scratch/Adult_Trimmomatic_Reads/CP-MB-pl1-MB-21_S21_L008_R1_trimmomatic.fastq.gz -2 /scratch/mbitter/ExomeCapture_Scratch/Adult_Trimmomatic_Reads/CP-MB-pl1-MB-21_S21_L008_R2_trimmomatic.fastq.gz -U /scratch/mbitter/ExomeCapture_Scratch/Adult_Trimmomatic_Reads/CP-MB-pl1-MB-21_S21_L008_R1_UP_trimmomatic.fastq.gz -U /scratch/mbitter/ExomeCapture_Scratch/Adult_Trimmomatic_Reads/CP-MB-pl1-MB-21_S21_L008_R2_UP_trimmomatic.fastq.gz -S /scratch/mbitter/ExomeCapture_Scratch/AdultTranscriptomeAlignment/MappedReads/CP-MB-pl1-MB-21_S21_bt2.sam -p 14 2>/scratch/mbitter/ExomeCapture_Scratch/AdultTranscriptomeAlignment/MappedReads/CP-MB-pl1-MB-21_S21_bt2.stout\n",
    "bowtie2 --local -x /scratch/mbitter/ExomeCapture_Scratch/AdultTranscriptomeAlignment/MgalloTranscriptomeIndex -1 /scratch/mbitter/ExomeCapture_Scratch/Adult_Trimmomatic_Reads/CP-MB-pl1-MB-22_S22_L008_R1_trimmomatic.fastq.gz -2 /scratch/mbitter/ExomeCapture_Scratch/Adult_Trimmomatic_Reads/CP-MB-pl1-MB-22_S22_L008_R2_trimmomatic.fastq.gz -U /scratch/mbitter/ExomeCapture_Scratch/Adult_Trimmomatic_Reads/CP-MB-pl1-MB-22_S22_L008_R1_UP_trimmomatic.fastq.gz -U /scratch/mbitter/ExomeCapture_Scratch/Adult_Trimmomatic_Reads/CP-MB-pl1-MB-22_S22_L008_R2_UP_trimmomatic.fastq.gz -S /scratch/mbitter/ExomeCapture_Scratch/AdultTranscriptomeAlignment/MappedReads/CP-MB-pl1-MB-22_S22_bt2.sam -p 14 2>/scratch/mbitter/ExomeCapture_Scratch/AdultTranscriptomeAlignment/MappedReads/CP-MB-pl1-MB-22_S22_bt2.stout\n",
    "bowtie2 --local -x /scratch/mbitter/ExomeCapture_Scratch/AdultTranscriptomeAlignment/MgalloTranscriptomeIndex -1 /scratch/mbitter/ExomeCapture_Scratch/Adult_Trimmomatic_Reads/CP-MB-pl1-MB-23_S23_L008_R1_trimmomatic.fastq.gz -2 /scratch/mbitter/ExomeCapture_Scratch/Adult_Trimmomatic_Reads/CP-MB-pl1-MB-23_S23_L008_R2_trimmomatic.fastq.gz -U /scratch/mbitter/ExomeCapture_Scratch/Adult_Trimmomatic_Reads/CP-MB-pl1-MB-23_S23_L008_R1_UP_trimmomatic.fastq.gz -U /scratch/mbitter/ExomeCapture_Scratch/Adult_Trimmomatic_Reads/CP-MB-pl1-MB-23_S23_L008_R2_UP_trimmomatic.fastq.gz -S /scratch/mbitter/ExomeCapture_Scratch/AdultTranscriptomeAlignment/MappedReads/CP-MB-pl1-MB-23_S23_bt2.sam -p 14 2>/scratch/mbitter/ExomeCapture_Scratch/AdultTranscriptomeAlignment/MappedReads/CP-MB-pl1-MB-23_S23_bt2.stout\n",
    "bowtie2 --local -x /scratch/mbitter/ExomeCapture_Scratch/AdultTranscriptomeAlignment/MgalloTranscriptomeIndex -1 /scratch/mbitter/ExomeCapture_Scratch/Adult_Trimmomatic_Reads/CP-MB-pl1-MB-24_S24_L008_R1_trimmomatic.fastq.gz -2 /scratch/mbitter/ExomeCapture_Scratch/Adult_Trimmomatic_Reads/CP-MB-pl1-MB-24_S24_L008_R2_trimmomatic.fastq.gz -U /scratch/mbitter/ExomeCapture_Scratch/Adult_Trimmomatic_Reads/CP-MB-pl1-MB-24_S24_L008_R1_UP_trimmomatic.fastq.gz -U /scratch/mbitter/ExomeCapture_Scratch/Adult_Trimmomatic_Reads/CP-MB-pl1-MB-24_S24_L008_R2_UP_trimmomatic.fastq.gz -S /scratch/mbitter/ExomeCapture_Scratch/AdultTranscriptomeAlignment/MappedReads/CP-MB-pl1-MB-24_S24_bt2.sam -p 14 2>/scratch/mbitter/ExomeCapture_Scratch/AdultTranscriptomeAlignment/MappedReads/CP-MB-pl1-MB-24_S24_bt2.stout\n",
    "bowtie2 --local -x /scratch/mbitter/ExomeCapture_Scratch/AdultTranscriptomeAlignment/MgalloTranscriptomeIndex -1 /scratch/mbitter/ExomeCapture_Scratch/Adult_Trimmomatic_Reads/CP-MB-pl1-MB-25_S25_L008_R1_trimmomatic.fastq.gz -2 /scratch/mbitter/ExomeCapture_Scratch/Adult_Trimmomatic_Reads/CP-MB-pl1-MB-25_S25_L008_R2_trimmomatic.fastq.gz -U /scratch/mbitter/ExomeCapture_Scratch/Adult_Trimmomatic_Reads/CP-MB-pl1-MB-25_S25_L008_R1_UP_trimmomatic.fastq.gz -U /scratch/mbitter/ExomeCapture_Scratch/Adult_Trimmomatic_Reads/CP-MB-pl1-MB-25_S25_L008_R2_UP_trimmomatic.fastq.gz -S /scratch/mbitter/ExomeCapture_Scratch/AdultTranscriptomeAlignment/MappedReads/CP-MB-pl1-MB-25_S25_bt2.sam -p 14 2>/scratch/mbitter/ExomeCapture_Scratch/AdultTranscriptomeAlignment/MappedReads/CP-MB-pl1-MB-25_S25_bt2.stout\n",
    "bowtie2 --local -x /scratch/mbitter/ExomeCapture_Scratch/AdultTranscriptomeAlignment/MgalloTranscriptomeIndex -1 /scratch/mbitter/ExomeCapture_Scratch/Adult_Trimmomatic_Reads/CP-MB-pl1-MB-26_S26_L008_R1_trimmomatic.fastq.gz -2 /scratch/mbitter/ExomeCapture_Scratch/Adult_Trimmomatic_Reads/CP-MB-pl1-MB-26_S26_L008_R2_trimmomatic.fastq.gz -U /scratch/mbitter/ExomeCapture_Scratch/Adult_Trimmomatic_Reads/CP-MB-pl1-MB-26_S26_L008_R1_UP_trimmomatic.fastq.gz -U /scratch/mbitter/ExomeCapture_Scratch/Adult_Trimmomatic_Reads/CP-MB-pl1-MB-26_S26_L008_R2_UP_trimmomatic.fastq.gz -S /scratch/mbitter/ExomeCapture_Scratch/AdultTranscriptomeAlignment/MappedReads/CP-MB-pl1-MB-26_S26_bt2.sam -p 14 2>/scratch/mbitter/ExomeCapture_Scratch/AdultTranscriptomeAlignment/MappedReads/CP-MB-pl1-MB-26_S26_bt2.stout\n",
    "bowtie2 --local -x /scratch/mbitter/ExomeCapture_Scratch/AdultTranscriptomeAlignment/MgalloTranscriptomeIndex -1 /scratch/mbitter/ExomeCapture_Scratch/Adult_Trimmomatic_Reads/CP-MB-pl1-MB-27_S27_L008_R1_trimmomatic.fastq.gz -2 /scratch/mbitter/ExomeCapture_Scratch/Adult_Trimmomatic_Reads/CP-MB-pl1-MB-27_S27_L008_R2_trimmomatic.fastq.gz -U /scratch/mbitter/ExomeCapture_Scratch/Adult_Trimmomatic_Reads/CP-MB-pl1-MB-27_S27_L008_R1_UP_trimmomatic.fastq.gz -U /scratch/mbitter/ExomeCapture_Scratch/Adult_Trimmomatic_Reads/CP-MB-pl1-MB-27_S27_L008_R2_UP_trimmomatic.fastq.gz -S /scratch/mbitter/ExomeCapture_Scratch/AdultTranscriptomeAlignment/MappedReads/CP-MB-pl1-MB-27_S27_bt2.sam -p 14 2>/scratch/mbitter/ExomeCapture_Scratch/AdultTranscriptomeAlignment/MappedReads/CP-MB-pl1-MB-27_S27_bt2.stout\n",
    "bowtie2 --local -x /scratch/mbitter/ExomeCapture_Scratch/AdultTranscriptomeAlignment/MgalloTranscriptomeIndex -1 /scratch/mbitter/ExomeCapture_Scratch/Adult_Trimmomatic_Reads/CP-MB-pl1-MB-28_S28_L008_R1_trimmomatic.fastq.gz -2 /scratch/mbitter/ExomeCapture_Scratch/Adult_Trimmomatic_Reads/CP-MB-pl1-MB-28_S28_L008_R2_trimmomatic.fastq.gz -U /scratch/mbitter/ExomeCapture_Scratch/Adult_Trimmomatic_Reads/CP-MB-pl1-MB-28_S28_L008_R1_UP_trimmomatic.fastq.gz -U /scratch/mbitter/ExomeCapture_Scratch/Adult_Trimmomatic_Reads/CP-MB-pl1-MB-28_S28_L008_R2_UP_trimmomatic.fastq.gz -S /scratch/mbitter/ExomeCapture_Scratch/AdultTranscriptomeAlignment/MappedReads/CP-MB-pl1-MB-28_S28_bt2.sam -p 14 2>/scratch/mbitter/ExomeCapture_Scratch/AdultTranscriptomeAlignment/MappedReads/CP-MB-pl1-MB-28_S28_bt2.stout"
   ]
  },
  {
   "cell_type": "markdown",
   "metadata": {},
   "source": [
    "Generate .bam files"
   ]
  },
  {
   "cell_type": "code",
   "execution_count": null,
   "metadata": {},
   "outputs": [],
   "source": [
    "%%sh\n",
    "\n",
    "module load gcc intel\n",
    "module load samtools\n",
    "\n",
    "cd /scratch/mbitter/ExomeCapture_Scratch/AdultTranscriptomeAlignment/MappedReads/\n",
    "\n",
    "for i in /scratch/mbitter/ExomeCapture_Scratch/AdultTranscriptomeAlignment/MappedReads/*.sam; do\n",
    "    samtools view -S -b $i > ${i/.sam/.bam}\n",
    "done"
   ]
  },
  {
   "cell_type": "markdown",
   "metadata": {},
   "source": [
    "Sort .bam files"
   ]
  },
  {
   "cell_type": "code",
   "execution_count": null,
   "metadata": {},
   "outputs": [],
   "source": [
    "%%sh\n",
    "\n",
    "module load gcc intel\n",
    "module load samtools\n",
    "\n",
    "cd /scratch/mbitter/ExomeCapture_Scratch/AdultTranscriptomeAlignment/MappedReads/\n",
    "\n",
    "for i in /scratch/mbitter/ExomeCapture_Scratch/AdultTranscriptomeAlignment/MappedReads/*.bam; do\n",
    "    samtools sort $i -o ${i/.bam/.sorted.bam}\n",
    "done"
   ]
  },
  {
   "cell_type": "markdown",
   "metadata": {},
   "source": [
    "Re-name files to indicate they were generated from the transcriptome alignment"
   ]
  },
  {
   "cell_type": "code",
   "execution_count": null,
   "metadata": {},
   "outputs": [],
   "source": [
    "%%sh\n",
    "\n",
    "cd /scratch/mbitter/ExomeCapture_Scratch/AdultTranscriptomeAlignment/MappedReads/\n",
    "\n",
    "for i in /scratch/mbitter/ExomeCapture_Scratch/AdultTranscriptomeAlignment/MappedReads/*.sam;do\n",
    "    $i > ${i/bt2.sam/transcriptome_bt2.sam}"
   ]
  },
  {
   "cell_type": "code",
   "execution_count": null,
   "metadata": {},
   "outputs": [],
   "source": [
    "%%sh\n",
    "\n",
    "cd /scratch/mbitter/ExomeCapture_Scratch/AdultTranscriptomeAlignment/MappedReads/\n",
    "\n",
    "for i in /scratch/mbitter/ExomeCapture_Scratch/AdultTranscriptomeAlignment/MappedReads/*.stout;do\n",
    "    $i > ${i/bt2.stout/transcriptome_bt2.stout}"
   ]
  },
  {
   "cell_type": "code",
   "execution_count": null,
   "metadata": {},
   "outputs": [],
   "source": [
    "%%sh\n",
    "\n",
    "cd /scratch/mbitter/ExomeCapture_Scratch/AdultTranscriptomeAlignment/MappedReads/\n",
    "\n",
    "for i in /scratch/mbitter/ExomeCapture_Scratch/AdultTranscriptomeAlignment/MappedReads/*.stout;do\n",
    "    $i > ${i/bt2.sorted.bam/transcriptome_bt2.sorted.bam}"
   ]
  },
  {
   "cell_type": "markdown",
   "metadata": {},
   "source": [
    "De-duplicate sorted files from the command line. \n",
    "\n",
    "The scripts are located in /scratch/mbitter/ExomeCapture_Scratch/FinalScripts/ and are named AdultTranscriptome_MarkDups.sh (picard Mark Duplicates command line) and  CommandLineLoop_AdultTranscriptome_MarkDups.sh (commmand line bash loop to parallelize de-duplication of al sorted .bam files).\n",
    "\n",
    "The output files (deduped.sorted.bam) are located both in  /scratch/mbitter/ExomeCapture_Scratch/AdultTranscriptomeAlignment/MappedReads and /scratch/mbitter/ExomeCapture_Scratch/AdultTranscriptome_FinalBams"
   ]
  },
  {
   "cell_type": "markdown",
   "metadata": {},
   "source": [
    "I then also needed to add Reading Group headers to each bam file.\n",
    "I did so with the scripts located in /FinalScripts/AddReadGroups/"
   ]
  },
  {
   "cell_type": "markdown",
   "metadata": {},
   "source": [
    "The files now need to be indexed using samtools"
   ]
  },
  {
   "cell_type": "code",
   "execution_count": null,
   "metadata": {},
   "outputs": [],
   "source": [
    "%%sh\n",
    "\n",
    "module load gcc intel\n",
    "module load samtools\n",
    "\n",
    "cd /scratch/mbitter/ExomeCapture_Scratch/Adult_BAI/\n",
    "\n",
    "for i in /scratch/mbitter/ExomeCapture_Scratch/Adult_BAI/*.RG.bam;do\n",
    "    samtools index -b $i \n",
    "done\n"
   ]
  },
  {
   "cell_type": "markdown",
   "metadata": {},
   "source": [
    "Estimating Coverage across the transcriptome in each sample"
   ]
  },
  {
   "cell_type": "code",
   "execution_count": null,
   "metadata": {},
   "outputs": [],
   "source": [
    "%%sh\n",
    "\n",
    "module load gcc intel\n",
    "module load samtools\n",
    "\n",
    "/scratch/mbitter/ExomeCapture_Scratch/Adult_BAI\n",
    "\n",
    "for i in /scratch/mbitter/ExomeCapture_Scratch/Adult_BAI/*.bam;do\n",
    "    samtools depth $i > ${i/.sorted.deduped.RG.bam/DepthTable.txt}\n",
    "done"
   ]
  },
  {
   "cell_type": "markdown",
   "metadata": {},
   "source": [
    "This produces a table with per nucleotdie coverage. To estimate coverage across all loci, I simply sum the coverage at each nucleotide and divide by the number of lines (i.e. nucleotides) in the file."
   ]
  },
  {
   "cell_type": "code",
   "execution_count": null,
   "metadata": {},
   "outputs": [],
   "source": [
    "%%sh\n",
    "\n",
    "cd /scratch/mbitter/ExomeCapture_Scratch/Adult_Transcriptome_DepthStats\n",
    "\n",
    "touch DepthSummary.txt\n",
    "for file in *.txt;do \n",
    "    avg_depth=$(awk '{sum += $3; n ++} END {print sum/n}' ${file})\n",
    "    echo ${file} ${avg_depth} >> DepthSummary.txt\n",
    "done"
   ]
  },
  {
   "cell_type": "markdown",
   "metadata": {},
   "source": [
    "Start with generating a list of contigs from the transcriptome that the probes were designed based on"
   ]
  },
  {
   "cell_type": "code",
   "execution_count": null,
   "metadata": {},
   "outputs": [],
   "source": [
    "%%sh \n",
    "\n",
    "cd /group/pfister-lab/Bitter/PublishedSequences/Mgallo_TranscriptomeForVariantCalling/\n",
    "\n",
    "touch TranscriptomeScaffolds.txt\n",
    "\n",
    "#Grab all header lines in fasta and remove all information after the contig/unigene name\n",
    "grep \">\" Mgalloprovincialis_transcripts_final.fasta | sed 's/ .*//' > TranscriptomeScaffolds.txt\n",
    "\n",
    "#Move this file to scrath space\n",
    "mv TranscriptomeScaffolds.txt /scratch/mbitter/ExomeCapture_Scratch/TranscriptomeScaffolds\n",
    "\n",
    "\n"
   ]
  },
  {
   "cell_type": "markdown",
   "metadata": {},
   "source": [
    "Subset the ScaffoldList file 122 times so that each file contains 1000 contigs (except for last, which will contain ~200)"
   ]
  },
  {
   "cell_type": "code",
   "execution_count": null,
   "metadata": {},
   "outputs": [],
   "source": [
    "%%sh\n",
    "\n",
    "cd /scratch/mbitter/ExomeCapture_Scratch/TranscriptomeScaffolds/\n",
    "\n",
    "split -l 1000 TranscriptomeScaffolds.txt TranscriptomeScaffolds.txt.\n",
    "\n"
   ]
  },
  {
   "cell_type": "code",
   "execution_count": null,
   "metadata": {},
   "outputs": [],
   "source": [
    "%%sh\n",
    "#For loop through these files to generate new files in the format that will be inputed into the GATK command line.\n",
    "#This format is \"-L Contig1 -L Contig2 -L Contig3...\"\n",
    "\n",
    "cd /scratch/mbitter/ExomeCapture_Scratch/TranscriptomeScaffolds/\n",
    "\n",
    "counter=1\n",
    "for file in /scratch/mbitter/ExomeCapture_Scratch/TranscriptomeScaffolds/*.txt.*; do\n",
    "    grep \">\" $file | tr '\\n' ' ' | sed 's/>/-L\\ /g' > ${file/.txt.*/$counter.txt}\n",
    "    ((counter++))\n",
    "done\n",
    "\n",
    "#Remove intermediary files\n",
    "rm TranscriptomeScaffolds.txt.*"
   ]
  },
  {
   "cell_type": "markdown",
   "metadata": {},
   "source": [
    "Now write a for loop to create a bash script for each scaffold subset file"
   ]
  },
  {
   "cell_type": "code",
   "execution_count": null,
   "metadata": {},
   "outputs": [],
   "source": [
    "import sys\n",
    "import os\n",
    "\n",
    "os.chdir(\"/scratch/mbitter/ExomeCapture_Scratch/TranscriptomeScaffolds/\")\n",
    "\n",
    "nFiles = 122\n",
    "\n",
    "for d in range(1,nFiles+1):\n",
    "    sh = open(\"UnifiedGenotyper_\"+str(d)+\".sh\",\"w\")\n",
    "    sh.write(\"#PBS -N UnifiedGenotyper_\"+str(d)+\\\n",
    "            \"\\n#PBS -S /bin/bash\"+\\\n",
    "            \"\\n#PBS -l nodes=1:ppn=8\")\n",
    "    sh.write(\"\\n#PBS -l walltime=100:00:00\\n\")\n",
    "    sh.write(\"#PBS -l mem=20gb\")\n",
    "    sh.write(\"\\n#PBS -o UnifiedGenotyper_Scaffold\"+str(d)+\".out\"+\\\n",
    "             \"\\n#PBS -e UnifiedGenotyper_Scaffold\"+str(d)+\".err\"+\\\n",
    "             \"\\n\\nmodule load java-jdk/1.8.0_92\"+\\\n",
    "             \"\\nmodule load gatk/3.8\"+\\\n",
    "             \"\\n\\ncd /scratch/mbitter/ExomeCapture_Scratch/\"+\\\n",
    "             \"\\n\\njava -Xmx20G -jar ${GATK} -T UnifiedGenotyper -R /group/pfister-lab/Bitter/PublishedSequences/Mgallo_TranscriptomeForVariantCalling/Mgalloprovincialis_transcripts_final.fasta -nt 8 `cat ./TranscriptomeScaffolds/TranscriptomeScaffolds\"+str(d)+\".txt`-I ./Adult_BAI/CP-MB-pl1-MB-01_S1_bt2transcriptome.sorted.deduped.RG.bam -I ./Adult_BAI/CP-MB-pl1-MB-02_S2_bt2transcriptome.sorted.deduped.RG.bam -I ./Adult_BAI/CP-MB-pl1-MB-03_S3_bt2transcriptome.sorted.deduped.RG.bam -I ./Adult_BAI/CP-MB-pl1-MB-04_S4_bt2transcriptome.sorted.deduped.RG.bam -I ./Adult_BAI/CP-MB-pl1-MB-05_S5_bt2transcriptome.sorted.deduped.RG.bam -I ./Adult_BAI/CP-MB-pl1-MB-06_S6_bt2transcriptome.sorted.deduped.RG.bam -I ./Adult_BAI/CP-MB-pl1-MB-07_S7_bt2transcriptome.sorted.deduped.RG.bam -I ./Adult_BAI/CP-MB-pl1-MB-08_S8_bt2transcriptome.sorted.deduped.RG.bam -I ./Adult_BAI/CP-MB-pl1-MB-09_S9_bt2transcriptome.sorted.deduped.RG.bam -I ./Adult_BAI/CP-MB-pl1-MB-10_S10_bt2transcriptome.sorted.deduped.RG.bam -I ./Adult_BAI/CP-MB-pl1-MB-11_S11_bt2transcriptome.sorted.deduped.RG.bam -I ./Adult_BAI/CP-MB-pl1-MB-12_S12_bt2transcriptome.sorted.deduped.RG.bam -I ./Adult_BAI/CP-MB-pl1-MB-13_S13_bt2transcriptome.sorted.deduped.RG.bam -I ./Adult_BAI/CP-MB-pl1-MB-14_S14_bt2transcriptome.sorted.deduped.RG.bam -I ./Adult_BAI/CP-MB-pl1-MB-15_S15_bt2transcriptome.sorted.deduped.RG.bam -I ./Adult_BAI/CP-MB-pl1-MB-16_S16_bt2transcriptome.sorted.deduped.RG.bam -I ./Adult_BAI/CP-MB-pl1-MB-17_S17_bt2transcriptome.sorted.deduped.RG.bam -I ./Adult_BAI/CP-MB-pl1-MB-18_S18_bt2transcriptome.sorted.deduped.RG.bam -I ./Adult_BAI/CP-MB-pl1-MB-19_S19_bt2transcriptome.sorted.deduped.RG.bam -I ./Adult_BAI/CP-MB-pl1-MB-20_S20_bt2transcriptome.sorted.deduped.RG.bam -I ./Adult_BAI/CP-MB-pl1-MB-21_S21_bt2transcriptome.sorted.deduped.RG.bam -I ./Adult_BAI/CP-MB-pl1-MB-22_S22_bt2transcriptome.sorted.deduped.RG.bam -I ./Adult_BAI/CP-MB-pl1-MB-23_S23_bt2transcriptome.sorted.deduped.RG.bam -I ./Adult_BAI/CP-MB-pl1-MB-24_S24_bt2transcriptome.sorted.deduped.RG.bam -I ./Adult_BAI/CP-MB-pl1-MB-25_S25_bt2transcriptome.sorted.deduped.RG.bam -I ./Adult_BAI/CP-MB-pl1-MB-26_S26_bt2transcriptome.sorted.deduped.RG.bam -I ./Adult_BAI/CP-MB-pl1-MB-27_S27_bt2transcriptome.sorted.deduped.RG.bam -I ./Adult_BAI/CP-MB-pl1-MB-28_S28_bt2transcriptome.sorted.deduped.RG.bam -o UnifiedGenotyper_TranscriptomeScaffolds\"+str(d)+\".vcf\"+\"\\n\")\n",
    "    sh.close\n",
    "                \n",
    "        \n",
    "        \n",
    "        \n",
    "        "
   ]
  },
  {
   "cell_type": "markdown",
   "metadata": {},
   "source": [
    "Submit all Unified Genotyper jobs  "
   ]
  },
  {
   "cell_type": "code",
   "execution_count": null,
   "metadata": {},
   "outputs": [],
   "source": [
    "%%sh\n",
    "\n",
    "cd /scratch/mbitter/ExomeCapture_Scratch/TranscriptomeScaffolds/\n",
    "\n",
    "for i in /scratch/mbitter/ExomeCapture_Scratch/TranscriptomeScaffolds/UnifiedGenotyper*.sh;do\n",
    "    qsub $i\n",
    "done"
   ]
  },
  {
   "cell_type": "markdown",
   "metadata": {},
   "source": [
    "Filter all vcf files separately"
   ]
  },
  {
   "cell_type": "code",
   "execution_count": null,
   "metadata": {},
   "outputs": [],
   "source": [
    "%%sh\n",
    "\n",
    "#cd \n",
    "\n",
    "for i in ./*.vcf;do\n",
    "    vcftools --vcf $i --maf 0.05 --minQ 30 --min-meanDP 10 --max-missing 0.75 --recode --recode-INFO-all --out ${i/.vcf/}\n",
    "done  "
   ]
  },
  {
   "cell_type": "markdown",
   "metadata": {},
   "source": [
    "Bgzip all .vcf's"
   ]
  },
  {
   "cell_type": "code",
   "execution_count": 3,
   "metadata": {},
   "outputs": [],
   "source": [
    "%%sh\n",
    "\n",
    "cd /scratch/mbitter/ExomeCapture_Scratch/Adult_GATK_VariantCalling/Transcriptome/VCFs/\n",
    "\n",
    "for i in ./*.recode.vcf;do \n",
    "    bgzip $i \n",
    "done"
   ]
  },
  {
   "cell_type": "markdown",
   "metadata": {},
   "source": [
    "Generate index files for all .vcfs"
   ]
  },
  {
   "cell_type": "code",
   "execution_count": null,
   "metadata": {},
   "outputs": [],
   "source": [
    "%%sh\n",
    "\n",
    "cd /scratch/mbitter/ExomeCapture_Scratch/Adult_Transcriptome_VCFs/\n",
    "\n",
    "for i in ./*.vcf.gz;do\n",
    "    tabix $i \n",
    "done\n"
   ]
  },
  {
   "cell_type": "markdown",
   "metadata": {},
   "source": [
    "Merge vcf's"
   ]
  },
  {
   "cell_type": "code",
   "execution_count": null,
   "metadata": {},
   "outputs": [],
   "source": [
    "%%sh\n",
    "\n",
    "cd /scratch/mbitter/ExomeCapture_Scratch/Adult_GATK_VariantCalling/Transcriptome/VCFs/\n",
    "\n",
    "bcftools concat *.recode.vcf.gz -o Adult_TranscriptomeVariants.vcf"
   ]
  },
  {
   "cell_type": "markdown",
   "metadata": {},
   "source": [
    "Generate summary statistics of the merged vcf file"
   ]
  },
  {
   "cell_type": "code",
   "execution_count": null,
   "metadata": {},
   "outputs": [],
   "source": [
    "%%sh \n",
    "\n",
    "cd /scratch/mbitter/ExomeCapture_Scratch/Adult_GATK_VariantCalling/Transcriptome/VCFs/\n",
    "\n",
    "vcftools --vcf Adult_TranscriptomeVariants.vcf --freq --out Adult_TranscriptomeVariants\n"
   ]
  },
  {
   "cell_type": "markdown",
   "metadata": {},
   "source": [
    "This .vcf needs to be sorted in accordance with the original reference all sequences were aligned to (i.e. the transcriptome)\n",
    "\n",
    "This can be done with picard tools"
   ]
  },
  {
   "cell_type": "code",
   "execution_count": null,
   "metadata": {},
   "outputs": [],
   "source": [
    "%%sh\n",
    "\n",
    "cd /scratch/mbitter/ExomeCapture_Scratch/\n",
    "\n",
    "module load java-jdk/1.8.0_92\n",
    "module load picard/2.8.1\n",
    "\n",
    "java -Xmx6G -XX:ParallelGCThreads=4 -jar ${PICARD} SortVcf I=/scratch/mbitter/ExomeCapture_Scratch/Adult_Transcriptome_VCFs/Adults_TranscriptomeVariants.vcf O=/scratch/mbitter/ExomeCapture_Scratch/Adult_Transcriptome_VCFs/Adults_TranscriptomeVariants_Sorted.vcf SEQUENCE_DICTIONARY=/gpfs/data/pfister-lab/Bitter/PublishedSequences/Mgallo_TranscriptomeForVariantCalling/Mgalloprovincialis_transcripts_final.dict"
   ]
  },
  {
   "cell_type": "markdown",
   "metadata": {},
   "source": [
    "Check the summary stats of the new sorted file"
   ]
  },
  {
   "cell_type": "code",
   "execution_count": null,
   "metadata": {},
   "outputs": [],
   "source": [
    "%%sh \n",
    "\n",
    "cd /scratch/mbitter/ExomeCapture_Scratch/Adult_Transcriptome_VCFs/\n",
    "\n",
    "vcftools --vcf Adults_TranscriptomeVariants_Sorted.vcf  --freq --out Adults_TranscriptomeVariants_Sorted.vcf \n"
   ]
  },
  {
   "cell_type": "markdown",
   "metadata": {},
   "source": [
    "NOTE: I re-named the sorted .vcf to Adults_TranscriptomeVariants.vcf and the unsorted file as Adults_TranscriptomeVariants_Unsorted.vcf, as this allows me to not alter the code for the Pools variant calling"
   ]
  },
  {
   "cell_type": "markdown",
   "metadata": {},
   "source": [
    "\n",
    "\n",
    "\n",
    "Running basic summary stats on merged Adult_Transcriptome vcf file\n",
    "\n",
    "\n"
   ]
  },
  {
   "cell_type": "code",
   "execution_count": 1,
   "metadata": {},
   "outputs": [],
   "source": [
    "%%sh\n",
    "\n",
    "cd /gpfs/data/pfister-lab/Bitter/ExomeCapture/Adult_TranscriptomeVCF_Stats/\n",
    "\n",
    "#First, generate AF table using bcftools for analyses in R (SNP and alt allele freq)\n",
    "\n",
    "bcftools query -f '%CHROM\\t%POS\\t%AF\\n' Adults_TranscriptomeVariants.vcf > Adult_Transcriptome_AFTable.csv\n"
   ]
  },
  {
   "cell_type": "code",
   "execution_count": null,
   "metadata": {},
   "outputs": [],
   "source": []
  },
  {
   "cell_type": "code",
   "execution_count": null,
   "metadata": {},
   "outputs": [],
   "source": [
    "%%sh\n",
    "\n",
    "#Generating .freq file documenting allele frequency at every SNP\n",
    "\n",
    "cd /gpfs/data/pfister-lab/Bitter/ExomeCapture/Adult_TranscriptomeVCF_Stats/\n",
    "\n",
    "vcftools --vcf ./Adults_TranscriptomeVariants.vcf --freq --out Adults_TranscriptomeVariants\n"
   ]
  },
  {
   "cell_type": "code",
   "execution_count": null,
   "metadata": {},
   "outputs": [],
   "source": [
    "%%sh\n",
    "\n",
    "#window-based estimate of pi (nucleotide diversity), using 1000 bp sliding window\n",
    "\n",
    "cd /gpfs/data/pfister-lab/Bitter/ExomeCapture/Adult_TranscriptomeVCF_Stats/\n",
    "\n",
    "vcftools --vcf ./Adults_TranscriptomeVariants.vcf --window-pi 1000 --out Adults_TranscriptomeVariants_1000bp"
   ]
  },
  {
   "cell_type": "code",
   "execution_count": null,
   "metadata": {},
   "outputs": [],
   "source": [
    "%%sh\n",
    "\n",
    "#measuring heterozygosity\n",
    "\n",
    "cd /gpfs/data/pfister-lab/Bitter/ExomeCapture/Adult_TranscriptomeVCF_Stats/\n",
    "\n",
    "vcftools --vcf ./Adults_TranscriptomeVariants.vcf --het --out Adult_TranscriptomeVariants_het"
   ]
  },
  {
   "cell_type": "code",
   "execution_count": null,
   "metadata": {},
   "outputs": [],
   "source": []
  }
 ],
 "metadata": {
  "kernelspec": {
   "display_name": "Python 3",
   "language": "python",
   "name": "python3"
  },
  "language_info": {
   "codemirror_mode": {
    "name": "ipython",
    "version": 3
   },
   "file_extension": ".py",
   "mimetype": "text/x-python",
   "name": "python",
   "nbconvert_exporter": "python",
   "pygments_lexer": "ipython3",
   "version": "3.6.2"
  }
 },
 "nbformat": 4,
 "nbformat_minor": 2
}
