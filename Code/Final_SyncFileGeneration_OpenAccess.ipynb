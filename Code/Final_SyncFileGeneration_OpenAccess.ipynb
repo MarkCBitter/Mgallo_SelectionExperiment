{
 "cells": [
  {
   "cell_type": "markdown",
   "metadata": {},
   "source": [
    "\n",
    "\n",
    "This notebook contains code to create the sync file that is used as the input for outlier loci identification (PoPoolation) and Fst (poolFstat) \n",
    "\n",
    "\n",
    "This code was modified from code provided by Christian Schlötterer\n"
   ]
  },
  {
   "cell_type": "code",
   "execution_count": null,
   "metadata": {
    "autoscroll": false,
    "collapsed": true
   },
   "outputs": [],
   "source": [
    "#Sync_1.sync (for outlier loci analysis using PoPoolation)\n",
    "\n",
    "setwd(\"~/Dropbox/U Chicago/Projects/France/DataAnalysis_Figures/PE3_DataAnalysis/\")\n",
    "\n",
    "require(sys)\n",
    "require(data.table)\n",
    "\n",
    "\n",
    "#I generated the ADTable in  PE3_Pools_VariantCalling_Transcriptome.ipynb\n",
    "\n",
    "dt=fread(\"Pools_ADTableMerged_2.txt\")\n",
    "Samples <- c(\"Embryos\", \"D25Low_LB2\", \"D25High_LB10\", \"D25Low_LB3\", \"D25High_LB12\", \"D25High_LB5\", \"D25Low_LB8\", \"D6High_Large_LB11\", \"D6Low_Large_LB9\", \"D6High_Large_LB6\", \"D6Low_Large_LB1\", \"D6High_Small_LB11\", \"D6Low_Small_LB9\", \"D6High_Small_LB6\", \"D6Low_Small_LB1\", \"D6High_LB4\", \"D6Low_LB7\", \"SettledLow_LB2\", \"SettledHigh_LB10\", \"SettledLow_LB3\", \"SettledHigh_LB5\", \"SettledLow_LB8\")\n",
    "names(dt)[5:26]=Samples\n",
    "names(dt)[1:4]=c(\"CHROM\",\"POS\",\"REF\",\"ALT\")\n",
    "dt=melt(dt,id.vars=names(dt)[1:4],variable.name=\"POP\",value.name=\"COUNTS\")\n",
    "dt[,c(\"COUNT1\",\"COUNT2\"):=tstrsplit(COUNTS,':')]\n",
    "dt[,COUNTS:=NULL]\n",
    "dt[,c(\"COUNT1\",\"COUNT2\"):=.(as.integer(COUNT1),as.integer(COUNT2))]\n",
    "bases=c('A','C','G','T','N')\n",
    "dt=na.omit(dt[REF%in%bases & ALT%in%bases])\n",
    "mkcstring=function(r,a,c1,c2)\n",
    "{\n",
    "  cvec=c(A=0L,C=0L,G=0L,T=0L,N=0L,DEL=0L)\n",
    "  cvec[c(r,a)]=c(c1,c2)\n",
    "  return(paste(cvec,collapse=':'))\n",
    "}\n",
    "dt[,cstring:=mkcstring(REF,ALT,COUNT1,COUNT2),\n",
    "   by=.(CHROM,POS,POP)]\n",
    "fwrite(na.omit(dcast(dt,CHROM+POS+REF~POP,value.var=\"cstring\")),\n",
    "       file=\"Sync_1.sync\",\n",
    "       sep='\\t',\n",
    "       col.names=FALSE)\n",
    "\n",
    "\n"
   ]
  },
  {
   "cell_type": "code",
   "execution_count": null,
   "metadata": {},
   "outputs": [],
   "source": [
    "#Sync_2.sync (For Fst of larval populations throughout the experiment)\n",
    "dt=fread(\"Pools_ADTableMerged_2.txt\")\n",
    "Samples <- c(\"Embryos\", \"D25Low_LB2\", \"D25High_LB10\", \"D25Low_LB3\", \"D25High_LB12\", \"D25High_LB5\", \"D25Low_LB8\", \"D6High_Large_LB11\", \"D6Low_Large_LB9\", \"D6High_Large_LB6\", \"D6Low_Large_LB1\", \"D6High_Small_LB11\", \"D6Low_Small_LB9\", \"D6High_Small_LB6\", \"D6Low_Small_LB1\", \"D6High_LB4\", \"D6Low_LB7\", \"SettledLow_LB2\", \"SettledHigh_LB10\", \"SettledLow_LB3\", \"SettledHigh_LB5\", \"SettledLow_LB8\")\n",
    "names(dt)[5:26]=Samples\n",
    "names(dt)[1:4]=c(\"CHROM\",\"POS\",\"REF\",\"ALT\")\n",
    "#Remove size separated larval samples\n",
    "dt <- dt[,-c(12:19)]\n",
    "\n",
    "dt=melt(dt,id.vars=names(dt)[1:4],variable.name=\"POP\",value.name=\"COUNTS\")\n",
    "dt[,c(\"COUNT1\",\"COUNT2\"):=tstrsplit(COUNTS,':')]\n",
    "dt[,COUNTS:=NULL]\n",
    "dt[,c(\"COUNT1\",\"COUNT2\"):=.(as.integer(COUNT1),as.integer(COUNT2))]\n",
    "bases=c('A','C','G','T','N')\n",
    "dt=na.omit(dt[REF%in%bases & ALT%in%bases])\n",
    "\n",
    "mkcstring=function(r,a,c1,c2)\n",
    "{\n",
    "  cvec=c(A=0L,C=0L,G=0L,T=0L,N=0L,DEL=0L)\n",
    "  cvec[c(r,a)]=c(c1,c2)\n",
    "  return(paste(cvec,collapse=':'))\n",
    "}\n",
    "dt[,cstring:=mkcstring(REF,ALT,COUNT1,COUNT2),\n",
    "   by=.(CHROM,POS,POP)]\n",
    "fwrite(na.omit(dcast(dt,CHROM+POS+REF~POP,value.var=\"cstring\")),\n",
    "       file=\"Sync_2.sync\",\n",
    "       sep='\\t',\n",
    "       col.names=FALSE)"
   ]
  },
  {
   "cell_type": "code",
   "execution_count": null,
   "metadata": {},
   "outputs": [],
   "source": [
    "#Sync_3.sync (For Fst of Day 6 collected larvae) \n",
    "##Note: uses different ADTable, which was generated with more stringent filters of variants in larval .vcf files (maf: 0.05, max-maf: 0.95; minDP: 30; maxDP: 350)\n",
    "\n",
    "require(sys)\n",
    "require(data.table)\n",
    "\n",
    "dt=fread(\"Pools_ADTableMerged.txt\")\n",
    "Samples <- c(\"Embryos\", \"D25Low_LB2\", \"D25High_LB10\", \"D25Low_LB3\", \"D25High_LB12\", \"D25High_LB5\", \"D25Low_LB8\", \"D6High_Large_LB11\", \"D6Low_Large_LB9\", \"D6High_Large_LB6\", \"D6Low_Large_LB1\", \"D6High_Small_LB11\", \"D6Low_Small_LB9\", \"D6High_Small_LB6\", \"D6Low_Small_LB1\", \"D6High_LB4\", \"D6Low_LB7\", \"SettledLow_LB2\", \"SettledHigh_LB10\", \"SettledLow_LB3\", \"SettledHigh_LB5\", \"SettledLow_LB8\")\n",
    "names(dt)[5:26]=Samples\n",
    "names(dt)[1:4]=c(\"CHROM\",\"POS\",\"REF\",\"ALT\")\n",
    "#Grab Embryo, Day 6 Samples, and Day 25 columns\n",
    "dt <- dt[,c(1,2,3,4, 5, 6, 7, 8, 9, 10, 11, 12, 13, 14, 15, 16, 17, 18, 19, 20 ,21)]\n",
    "Embr_D6All_D25 <- c(colnames(dt[,-c(1,2,3,4)]))\n",
    "\n",
    "dt=melt(dt,id.vars=names(dt)[1:4],variable.name=\"POP\",value.name=\"COUNTS\")\n",
    "dt[,c(\"COUNT1\",\"COUNT2\"):=tstrsplit(COUNTS,':')]\n",
    "dt[,COUNTS:=NULL]\n",
    "dt[,c(\"COUNT1\",\"COUNT2\"):=.(as.integer(COUNT1),as.integer(COUNT2))]\n",
    "bases=c('A','C','G','T','N')\n",
    "dt=na.omit(dt[REF%in%bases & ALT%in%bases])\n",
    "\n",
    "mkcstring=function(r,a,c1,c2)\n",
    "{\n",
    "  cvec=c(A=0L,C=0L,G=0L,T=0L,N=0L,DEL=0L)\n",
    "  cvec[c(r,a)]=c(c1,c2)\n",
    "  return(paste(cvec,collapse=':'))\n",
    "}\n",
    "dt[,cstring:=mkcstring(REF,ALT,COUNT1,COUNT2),\n",
    "   by=.(CHROM,POS,POP)]\n",
    "fwrite(na.omit(dcast(dt,CHROM+POS+REF~POP,value.var=\"cstring\")),\n",
    "       file=\"Sync_3.sync\",\n",
    "       sep='\\t',\n",
    "       col.names=FALSE)\n",
    "\n",
    "\n",
    "\n",
    "\n"
   ]
  },
  {
   "cell_type": "markdown",
   "metadata": {},
   "source": [
    "\n",
    "\n",
    "\n",
    "\n",
    "\n",
    "\n",
    "\n"
   ]
  }
 ],
 "metadata": {
  "Rmd_header": {
   "output": "html_document",
   "title": "PE3_SyncFileGeneration"
  },
  "kernelspec": {
   "display_name": "R",
   "language": "R",
   "name": "ir"
  },
  "language_info": {
   "codemirror_mode": "r",
   "file_extension": ".r",
   "mimetype": "text/x-r-source",
   "name": "R",
   "pygments_lexer": "r",
   "version": "3.5.1"
  }
 },
 "nbformat": 4,
 "nbformat_minor": 2
}
