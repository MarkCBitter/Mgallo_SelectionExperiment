{
 "cells": [
  {
   "cell_type": "markdown",
   "metadata": {},
   "source": [
    "\n",
    "This script analyzes the PE_3 pooled sequencing data using the package poolfstat\n",
    "\n"
   ]
  },
  {
   "cell_type": "code",
   "execution_count": 4,
   "metadata": {
    "autoscroll": false,
    "collapsed": true
   },
   "outputs": [],
   "source": [
    "setwd(\"~/Dropbox/U Chicago/Projects/France/DataAnalysis_Figures/PE3_DataAnalysis/\")\n",
    "\n",
    "library(poolfstat)\n",
    "library(corrplot)\n",
    "library(ggplot2)\n",
    "library(reshape2)"
   ]
  },
  {
   "cell_type": "code",
   "execution_count": null,
   "metadata": {},
   "outputs": [],
   "source": [
    "##Using sync file with all larval full population samples samples (Sync_2.sync)\n",
    "##These results were used in generation of Figure 4b\n",
    "all_fulldstbn_samples <- c(\"Embryos\", \"D25Low_LB2\", \"D25High_LB10\", \"D25Low_LB3\", \"D25High_LB12\", \"D25High_LB5\", \"D25Low_LB8\", \"D6High_LB4\", \"D6Low_LB7\", \"SettledLow_LB2\", \"SettledHigh_LB10\", \"SettledLow_LB3\", \"SettledHigh_LB5\", \"SettledLow_LB8\")\n",
    "\n",
    "all_fulldstbn <- popsync2pooldata(\"./PoPoolation/SyncFiles/Sync_2.sync\", poolsizes = c(100000, 2500, 2500, 2500, 2500, 2500, 2500, 25000, 25000, 250, 250, 250, 250, 250), poolnames = all_fulldstbn_samples, min.rc = 2, min.cov.per.pool = 50, max.cov.per.pool = 400, min.maf = 0.05, noindel = TRUE, nlines.per.readblock = 1e+06)\n",
    "\n",
    "#Compute Fst for every SNP\n",
    "all_fulldstbn_SNPFst <- computeFST(all_fulldstbn, method = \"Anova\", snp.index = NA)\n",
    "\n",
    "#Compute pairwise Fst matrix\n",
    "all_fulldstbn_Fst <- computePairwiseFSTmatrix(all_fulldstbn, method = \"Anova\", min.cov.per.pool = 50, max.cov.per.pool = 400, min.maf = 0.05, output.snp.values = FALSE)\n",
    "\n",
    "all_fulldstbn_PairwiseFSTMatrix <- as.matrix(as.data.frame(all_fulldstbn_Fst$PairwiseFSTmatrix))\n",
    "\n",
    "\n"
   ]
  },
  {
   "cell_type": "code",
   "execution_count": null,
   "metadata": {},
   "outputs": [],
   "source": [
    "#Now generating Fst between samples collected on Day 6\n",
    "#The results were used for Figure S2\n",
    "\n",
    "Embr_D6all_D25_samples <- c(\"Embryos\", \"D25Low_LB2\", \"D25High_LB10\", \"D25Low_LB3\", \"D25High_LB12\", \"D25High_LB5\", \"D25Low_LB8\", \"D6High_Large_LB11\", \"D6Low_Large_LB9\", \"D6High_Large_LB6\", \"D6Low_Large_LB1\", \"D6High_Small_LB11\", \"D6Low_Small_LB9\", \"D6High_Small_LB6\", \"D6Low_Small_LB1\", \"D6High_LB4\", \"D6Low_LB7\")\n",
    "\n",
    "\n",
    "#Note, this sync file was generated using an allele frequency matrix with more stringent MAF filtering\n",
    "Embr_D6all_D25_pooldata <- popsync2pooldata(\"./PoPoolation/SyncFiles/Sync_3.sync\", poolsizes = c(100000, 2500, 2500, 2500, 2500, 2500, 2500, 5250, 4250,5250, 4250, 19750, 20750, 19750, 20750, 25000, 25000), poolnames = Embr_D6all_D25_samples, min.rc = 2, min.cov.per.pool = 50, max.cov.per.pool = 400, min.maf = 0.05, noindel = TRUE, nlines.per.readblock = 1e+06)\n",
    "\n",
    "#Compute Fst for every SNP\n",
    "Embr_D6All_D25_SNPFst <- computeFST(Embr_D6all_D25_pooldata, method = \"Anova\", snp.index = NA)\n",
    "\n",
    "#Compute pairwise Fst matrix\n",
    "Embr_D6All_D25_Fst <- computePairwiseFSTmatrix(Embr_D6all_D25_pooldata, method = \"Anova\", min.cov.per.pool = 50, max.cov.per.pool = 400, min.maf = 0.05, output.snp.values = FALSE)\n",
    "\n",
    "Embr_D6All_D25_PairwiseFSTMatrix <- as.matrix(as.data.frame(Embr_D6All_D25_Fst$PairwiseFSTmatrix))\n",
    "\n",
    "D6_Fst <- Embr_D6All_D25_PairwiseFSTMatrix[c(\"D6High_LB4\",\"D6High_Large_LB6\", \"D6High_Large_LB11\", \"D6High_Small_LB6\", \"D6High_Small_LB11\"),c(\"D6Low_LB7\", \"D6Low_Large_LB1\", \"D6Low_Large_LB9\", \"D6Low_Small_LB1\", \"D6Low_Small_LB9\")]\n",
    "write.csv(D6_Fst, \"~/Dropbox/D6_Fst.csv\")"
   ]
  },
  {
   "cell_type": "markdown",
   "metadata": {},
   "source": [
    "\n"
   ]
  }
 ],
 "metadata": {
  "Rmd_header": {
   "output": "html_document",
   "title": "poolFstat"
  },
  "kernelspec": {
   "display_name": "R",
   "language": "R",
   "name": "ir"
  },
  "language_info": {
   "codemirror_mode": "r",
   "file_extension": ".r",
   "mimetype": "text/x-r-source",
   "name": "R",
   "pygments_lexer": "r",
   "version": "3.5.1"
  }
 },
 "nbformat": 4,
 "nbformat_minor": 2
}
